{
 "cells": [
  {
   "cell_type": "markdown",
   "metadata": {
    "colab_type": "text",
    "id": "dUeKVCYTbcyT"
   },
   "source": [
    "#### Copyright 2019 The TensorFlow Authors."
   ]
  },
  {
   "cell_type": "code",
   "execution_count": 1,
   "metadata": {
    "cellView": "form",
    "colab": {},
    "colab_type": "code",
    "id": "4ellrPx7tdxq"
   },
   "outputs": [],
   "source": [
    "#@title Licensed under the Apache License, Version 2.0 (the \"License\");\n",
    "# you may not use this file except in compliance with the License.\n",
    "# You may obtain a copy of the License at\n",
    "#\n",
    "# https://www.apache.org/licenses/LICENSE-2.0\n",
    "#\n",
    "# Unless required by applicable law or agreed to in writing, software\n",
    "# distributed under the License is distributed on an \"AS IS\" BASIS,\n",
    "# WITHOUT WARRANTIES OR CONDITIONS OF ANY KIND, either express or implied.\n",
    "# See the License for the specific language governing permissions and\n",
    "# limitations under the License."
   ]
  },
  {
   "cell_type": "markdown",
   "metadata": {
    "colab_type": "text",
    "id": "7JfLUlawto_D"
   },
   "source": [
    "# Classification on imbalanced data"
   ]
  },
  {
   "cell_type": "markdown",
   "metadata": {
    "colab_type": "text",
    "id": "DwdpaTKJOoPu"
   },
   "source": [
    "<table class=\"tfo-notebook-buttons\" align=\"left\">\n",
    "  <td>\n",
    "    <a target=\"_blank\" href=\"https://www.tensorflow.org/tutorials/structured_data/imbalanced_data\"><img src=\"https://www.tensorflow.org/images/tf_logo_32px.png\" />View on TensorFlow.org</a>\n",
    "  </td>\n",
    "  <td>\n",
    "    <a target=\"_blank\" href=\"https://colab.research.google.com/github/tensorflow/docs/blob/master/site/en/tutorials/structured_data/imbalanced_data.ipynb\"><img src=\"https://www.tensorflow.org/images/colab_logo_32px.png\" />Run in Google Colab</a>\n",
    "  </td>\n",
    "  <td>\n",
    "    <a target=\"_blank\" href=\"https://github.com/tensorflow/docs/blob/master/site/en/tutorials/structured_data/imbalanced_data.ipynb\"><img src=\"https://www.tensorflow.org/images/GitHub-Mark-32px.png\" />View source on GitHub</a>\n",
    "  </td>\n",
    "  <td>\n",
    "    <a href=\"https://storage.googleapis.com/tensorflow_docs/docs/site/en/tutorials/structured_data/imbalanced_data.ipynb\"><img src=\"https://www.tensorflow.org/images/download_logo_32px.png\" />Download notebook</a>\n",
    "  </td>\n",
    "</table>"
   ]
  },
  {
   "cell_type": "markdown",
   "metadata": {
    "colab_type": "text",
    "id": "mthoSGBAOoX-"
   },
   "source": [
    "This tutorial demonstrates how to classify a highly imbalanced dataset in which the number of examples in one class greatly outnumbers the examples in another. You will work with the [Credit Card Fraud Detection](https://www.kaggle.com/mlg-ulb/creditcardfraud) dataset hosted on Kaggle. The aim is to detect a mere 492 fraudulent transactions from 284,807 transactions in total. You will use [Keras](../../guide/keras/overview.ipynb) to define the model and [class weights](https://www.tensorflow.org/versions/r2.0/api_docs/python/tf/keras/Model) to help the model learn from the imbalanced data. .\n",
    "\n",
    "This tutorial contains complete code to:\n",
    "\n",
    "* Load a CSV file using Pandas.\n",
    "* Create train, validation, and test sets.\n",
    "* Define and train a model using Keras (including setting class weights).\n",
    "* Evaluate the model using various metrics (including precision and recall).\n",
    "* Try common techniques for dealing with imbalanced data like:\n",
    "    * Class weighting \n",
    "    * Oversampling\n"
   ]
  },
  {
   "cell_type": "markdown",
   "metadata": {
    "colab_type": "text",
    "id": "kRHmSyHxEIhN"
   },
   "source": [
    "## Setup"
   ]
  },
  {
   "cell_type": "code",
   "execution_count": 2,
   "metadata": {
    "colab": {},
    "colab_type": "code",
    "id": "JM7hDSNClfoK"
   },
   "outputs": [],
   "source": [
    "import tensorflow as tf\n",
    "from tensorflow import keras\n",
    "\n",
    "import os\n",
    "import tempfile\n",
    "\n",
    "import matplotlib as mpl\n",
    "import matplotlib.pyplot as plt\n",
    "import numpy as np\n",
    "import pandas as pd\n",
    "import seaborn as sns\n",
    "\n",
    "import sklearn\n",
    "from sklearn.metrics import confusion_matrix\n",
    "from sklearn.model_selection import train_test_split\n",
    "from sklearn.preprocessing import StandardScaler"
   ]
  },
  {
   "cell_type": "code",
   "execution_count": 3,
   "metadata": {
    "colab": {},
    "colab_type": "code",
    "id": "c8o1FHzD-_y_"
   },
   "outputs": [],
   "source": [
    "mpl.rcParams['figure.figsize'] = (12, 10)\n",
    "colors = plt.rcParams['axes.prop_cycle'].by_key()['color']"
   ]
  },
  {
   "cell_type": "markdown",
   "metadata": {
    "colab_type": "text",
    "id": "Z3iZVjziKHmX"
   },
   "source": [
    "## Data processing and exploration"
   ]
  },
  {
   "cell_type": "markdown",
   "metadata": {
    "colab_type": "text",
    "id": "4sA9WOcmzH2D"
   },
   "source": [
    "### Download the Kaggle Credit Card Fraud data set\n",
    "\n",
    "Pandas is a Python library with many helpful utilities for loading and working with structured data and can be used to download CSVs into a dataframe.\n",
    "\n",
    "Note: This dataset has been collected and analysed during a research collaboration of Worldline and the [Machine Learning Group](http://mlg.ulb.ac.be) of ULB (Université Libre de Bruxelles) on big data mining and fraud detection. More details on current and past projects on related topics are available [here](https://www.researchgate.net/project/Fraud-detection-5) and the page of the [DefeatFraud](https://mlg.ulb.ac.be/wordpress/portfolio_page/defeatfraud-assessment-and-validation-of-deep-feature-engineering-and-learning-solutions-for-fraud-detection/) project"
   ]
  },
  {
   "cell_type": "code",
   "execution_count": 4,
   "metadata": {
    "colab": {},
    "colab_type": "code",
    "id": "pR_SnbMArXr7"
   },
   "outputs": [
    {
     "data": {
      "text/html": [
       "<div>\n",
       "<style scoped>\n",
       "    .dataframe tbody tr th:only-of-type {\n",
       "        vertical-align: middle;\n",
       "    }\n",
       "\n",
       "    .dataframe tbody tr th {\n",
       "        vertical-align: top;\n",
       "    }\n",
       "\n",
       "    .dataframe thead th {\n",
       "        text-align: right;\n",
       "    }\n",
       "</style>\n",
       "<table border=\"1\" class=\"dataframe\">\n",
       "  <thead>\n",
       "    <tr style=\"text-align: right;\">\n",
       "      <th></th>\n",
       "      <th>Time</th>\n",
       "      <th>V1</th>\n",
       "      <th>V2</th>\n",
       "      <th>V3</th>\n",
       "      <th>V4</th>\n",
       "      <th>V5</th>\n",
       "      <th>V6</th>\n",
       "      <th>V7</th>\n",
       "      <th>V8</th>\n",
       "      <th>V9</th>\n",
       "      <th>...</th>\n",
       "      <th>V21</th>\n",
       "      <th>V22</th>\n",
       "      <th>V23</th>\n",
       "      <th>V24</th>\n",
       "      <th>V25</th>\n",
       "      <th>V26</th>\n",
       "      <th>V27</th>\n",
       "      <th>V28</th>\n",
       "      <th>Amount</th>\n",
       "      <th>Class</th>\n",
       "    </tr>\n",
       "  </thead>\n",
       "  <tbody>\n",
       "    <tr>\n",
       "      <th>0</th>\n",
       "      <td>0.0</td>\n",
       "      <td>-1.359807</td>\n",
       "      <td>-0.072781</td>\n",
       "      <td>2.536347</td>\n",
       "      <td>1.378155</td>\n",
       "      <td>-0.338321</td>\n",
       "      <td>0.462388</td>\n",
       "      <td>0.239599</td>\n",
       "      <td>0.098698</td>\n",
       "      <td>0.363787</td>\n",
       "      <td>...</td>\n",
       "      <td>-0.018307</td>\n",
       "      <td>0.277838</td>\n",
       "      <td>-0.110474</td>\n",
       "      <td>0.066928</td>\n",
       "      <td>0.128539</td>\n",
       "      <td>-0.189115</td>\n",
       "      <td>0.133558</td>\n",
       "      <td>-0.021053</td>\n",
       "      <td>149.62</td>\n",
       "      <td>0</td>\n",
       "    </tr>\n",
       "    <tr>\n",
       "      <th>1</th>\n",
       "      <td>0.0</td>\n",
       "      <td>1.191857</td>\n",
       "      <td>0.266151</td>\n",
       "      <td>0.166480</td>\n",
       "      <td>0.448154</td>\n",
       "      <td>0.060018</td>\n",
       "      <td>-0.082361</td>\n",
       "      <td>-0.078803</td>\n",
       "      <td>0.085102</td>\n",
       "      <td>-0.255425</td>\n",
       "      <td>...</td>\n",
       "      <td>-0.225775</td>\n",
       "      <td>-0.638672</td>\n",
       "      <td>0.101288</td>\n",
       "      <td>-0.339846</td>\n",
       "      <td>0.167170</td>\n",
       "      <td>0.125895</td>\n",
       "      <td>-0.008983</td>\n",
       "      <td>0.014724</td>\n",
       "      <td>2.69</td>\n",
       "      <td>0</td>\n",
       "    </tr>\n",
       "    <tr>\n",
       "      <th>2</th>\n",
       "      <td>1.0</td>\n",
       "      <td>-1.358354</td>\n",
       "      <td>-1.340163</td>\n",
       "      <td>1.773209</td>\n",
       "      <td>0.379780</td>\n",
       "      <td>-0.503198</td>\n",
       "      <td>1.800499</td>\n",
       "      <td>0.791461</td>\n",
       "      <td>0.247676</td>\n",
       "      <td>-1.514654</td>\n",
       "      <td>...</td>\n",
       "      <td>0.247998</td>\n",
       "      <td>0.771679</td>\n",
       "      <td>0.909412</td>\n",
       "      <td>-0.689281</td>\n",
       "      <td>-0.327642</td>\n",
       "      <td>-0.139097</td>\n",
       "      <td>-0.055353</td>\n",
       "      <td>-0.059752</td>\n",
       "      <td>378.66</td>\n",
       "      <td>0</td>\n",
       "    </tr>\n",
       "    <tr>\n",
       "      <th>3</th>\n",
       "      <td>1.0</td>\n",
       "      <td>-0.966272</td>\n",
       "      <td>-0.185226</td>\n",
       "      <td>1.792993</td>\n",
       "      <td>-0.863291</td>\n",
       "      <td>-0.010309</td>\n",
       "      <td>1.247203</td>\n",
       "      <td>0.237609</td>\n",
       "      <td>0.377436</td>\n",
       "      <td>-1.387024</td>\n",
       "      <td>...</td>\n",
       "      <td>-0.108300</td>\n",
       "      <td>0.005274</td>\n",
       "      <td>-0.190321</td>\n",
       "      <td>-1.175575</td>\n",
       "      <td>0.647376</td>\n",
       "      <td>-0.221929</td>\n",
       "      <td>0.062723</td>\n",
       "      <td>0.061458</td>\n",
       "      <td>123.50</td>\n",
       "      <td>0</td>\n",
       "    </tr>\n",
       "    <tr>\n",
       "      <th>4</th>\n",
       "      <td>2.0</td>\n",
       "      <td>-1.158233</td>\n",
       "      <td>0.877737</td>\n",
       "      <td>1.548718</td>\n",
       "      <td>0.403034</td>\n",
       "      <td>-0.407193</td>\n",
       "      <td>0.095921</td>\n",
       "      <td>0.592941</td>\n",
       "      <td>-0.270533</td>\n",
       "      <td>0.817739</td>\n",
       "      <td>...</td>\n",
       "      <td>-0.009431</td>\n",
       "      <td>0.798278</td>\n",
       "      <td>-0.137458</td>\n",
       "      <td>0.141267</td>\n",
       "      <td>-0.206010</td>\n",
       "      <td>0.502292</td>\n",
       "      <td>0.219422</td>\n",
       "      <td>0.215153</td>\n",
       "      <td>69.99</td>\n",
       "      <td>0</td>\n",
       "    </tr>\n",
       "  </tbody>\n",
       "</table>\n",
       "<p>5 rows × 31 columns</p>\n",
       "</div>"
      ],
      "text/plain": [
       "   Time        V1        V2        V3        V4        V5        V6        V7  \\\n",
       "0   0.0 -1.359807 -0.072781  2.536347  1.378155 -0.338321  0.462388  0.239599   \n",
       "1   0.0  1.191857  0.266151  0.166480  0.448154  0.060018 -0.082361 -0.078803   \n",
       "2   1.0 -1.358354 -1.340163  1.773209  0.379780 -0.503198  1.800499  0.791461   \n",
       "3   1.0 -0.966272 -0.185226  1.792993 -0.863291 -0.010309  1.247203  0.237609   \n",
       "4   2.0 -1.158233  0.877737  1.548718  0.403034 -0.407193  0.095921  0.592941   \n",
       "\n",
       "         V8        V9  ...       V21       V22       V23       V24       V25  \\\n",
       "0  0.098698  0.363787  ... -0.018307  0.277838 -0.110474  0.066928  0.128539   \n",
       "1  0.085102 -0.255425  ... -0.225775 -0.638672  0.101288 -0.339846  0.167170   \n",
       "2  0.247676 -1.514654  ...  0.247998  0.771679  0.909412 -0.689281 -0.327642   \n",
       "3  0.377436 -1.387024  ... -0.108300  0.005274 -0.190321 -1.175575  0.647376   \n",
       "4 -0.270533  0.817739  ... -0.009431  0.798278 -0.137458  0.141267 -0.206010   \n",
       "\n",
       "        V26       V27       V28  Amount  Class  \n",
       "0 -0.189115  0.133558 -0.021053  149.62      0  \n",
       "1  0.125895 -0.008983  0.014724    2.69      0  \n",
       "2 -0.139097 -0.055353 -0.059752  378.66      0  \n",
       "3 -0.221929  0.062723  0.061458  123.50      0  \n",
       "4  0.502292  0.219422  0.215153   69.99      0  \n",
       "\n",
       "[5 rows x 31 columns]"
      ]
     },
     "execution_count": 4,
     "metadata": {},
     "output_type": "execute_result"
    }
   ],
   "source": [
    "file = tf.keras.utils\n",
    "raw_df = pd.read_csv('https://storage.googleapis.com/download.tensorflow.org/data/creditcard.csv')\n",
    "raw_df.head()"
   ]
  },
  {
   "cell_type": "code",
   "execution_count": 5,
   "metadata": {
    "colab": {},
    "colab_type": "code",
    "id": "-fgdQgmwUFuj"
   },
   "outputs": [
    {
     "data": {
      "text/html": [
       "<div>\n",
       "<style scoped>\n",
       "    .dataframe tbody tr th:only-of-type {\n",
       "        vertical-align: middle;\n",
       "    }\n",
       "\n",
       "    .dataframe tbody tr th {\n",
       "        vertical-align: top;\n",
       "    }\n",
       "\n",
       "    .dataframe thead th {\n",
       "        text-align: right;\n",
       "    }\n",
       "</style>\n",
       "<table border=\"1\" class=\"dataframe\">\n",
       "  <thead>\n",
       "    <tr style=\"text-align: right;\">\n",
       "      <th></th>\n",
       "      <th>Time</th>\n",
       "      <th>V1</th>\n",
       "      <th>V2</th>\n",
       "      <th>V3</th>\n",
       "      <th>V4</th>\n",
       "      <th>V5</th>\n",
       "      <th>V26</th>\n",
       "      <th>V27</th>\n",
       "      <th>V28</th>\n",
       "      <th>Amount</th>\n",
       "      <th>Class</th>\n",
       "    </tr>\n",
       "  </thead>\n",
       "  <tbody>\n",
       "    <tr>\n",
       "      <th>count</th>\n",
       "      <td>284807.000000</td>\n",
       "      <td>2.848070e+05</td>\n",
       "      <td>2.848070e+05</td>\n",
       "      <td>2.848070e+05</td>\n",
       "      <td>2.848070e+05</td>\n",
       "      <td>2.848070e+05</td>\n",
       "      <td>2.848070e+05</td>\n",
       "      <td>2.848070e+05</td>\n",
       "      <td>2.848070e+05</td>\n",
       "      <td>284807.000000</td>\n",
       "      <td>284807.000000</td>\n",
       "    </tr>\n",
       "    <tr>\n",
       "      <th>mean</th>\n",
       "      <td>94813.859575</td>\n",
       "      <td>3.919560e-15</td>\n",
       "      <td>5.688174e-16</td>\n",
       "      <td>-8.769071e-15</td>\n",
       "      <td>2.782312e-15</td>\n",
       "      <td>-1.552563e-15</td>\n",
       "      <td>1.699104e-15</td>\n",
       "      <td>-3.660161e-16</td>\n",
       "      <td>-1.206049e-16</td>\n",
       "      <td>88.349619</td>\n",
       "      <td>0.001727</td>\n",
       "    </tr>\n",
       "    <tr>\n",
       "      <th>std</th>\n",
       "      <td>47488.145955</td>\n",
       "      <td>1.958696e+00</td>\n",
       "      <td>1.651309e+00</td>\n",
       "      <td>1.516255e+00</td>\n",
       "      <td>1.415869e+00</td>\n",
       "      <td>1.380247e+00</td>\n",
       "      <td>4.822270e-01</td>\n",
       "      <td>4.036325e-01</td>\n",
       "      <td>3.300833e-01</td>\n",
       "      <td>250.120109</td>\n",
       "      <td>0.041527</td>\n",
       "    </tr>\n",
       "    <tr>\n",
       "      <th>min</th>\n",
       "      <td>0.000000</td>\n",
       "      <td>-5.640751e+01</td>\n",
       "      <td>-7.271573e+01</td>\n",
       "      <td>-4.832559e+01</td>\n",
       "      <td>-5.683171e+00</td>\n",
       "      <td>-1.137433e+02</td>\n",
       "      <td>-2.604551e+00</td>\n",
       "      <td>-2.256568e+01</td>\n",
       "      <td>-1.543008e+01</td>\n",
       "      <td>0.000000</td>\n",
       "      <td>0.000000</td>\n",
       "    </tr>\n",
       "    <tr>\n",
       "      <th>25%</th>\n",
       "      <td>54201.500000</td>\n",
       "      <td>-9.203734e-01</td>\n",
       "      <td>-5.985499e-01</td>\n",
       "      <td>-8.903648e-01</td>\n",
       "      <td>-8.486401e-01</td>\n",
       "      <td>-6.915971e-01</td>\n",
       "      <td>-3.269839e-01</td>\n",
       "      <td>-7.083953e-02</td>\n",
       "      <td>-5.295979e-02</td>\n",
       "      <td>5.600000</td>\n",
       "      <td>0.000000</td>\n",
       "    </tr>\n",
       "    <tr>\n",
       "      <th>50%</th>\n",
       "      <td>84692.000000</td>\n",
       "      <td>1.810880e-02</td>\n",
       "      <td>6.548556e-02</td>\n",
       "      <td>1.798463e-01</td>\n",
       "      <td>-1.984653e-02</td>\n",
       "      <td>-5.433583e-02</td>\n",
       "      <td>-5.213911e-02</td>\n",
       "      <td>1.342146e-03</td>\n",
       "      <td>1.124383e-02</td>\n",
       "      <td>22.000000</td>\n",
       "      <td>0.000000</td>\n",
       "    </tr>\n",
       "    <tr>\n",
       "      <th>75%</th>\n",
       "      <td>139320.500000</td>\n",
       "      <td>1.315642e+00</td>\n",
       "      <td>8.037239e-01</td>\n",
       "      <td>1.027196e+00</td>\n",
       "      <td>7.433413e-01</td>\n",
       "      <td>6.119264e-01</td>\n",
       "      <td>2.409522e-01</td>\n",
       "      <td>9.104512e-02</td>\n",
       "      <td>7.827995e-02</td>\n",
       "      <td>77.165000</td>\n",
       "      <td>0.000000</td>\n",
       "    </tr>\n",
       "    <tr>\n",
       "      <th>max</th>\n",
       "      <td>172792.000000</td>\n",
       "      <td>2.454930e+00</td>\n",
       "      <td>2.205773e+01</td>\n",
       "      <td>9.382558e+00</td>\n",
       "      <td>1.687534e+01</td>\n",
       "      <td>3.480167e+01</td>\n",
       "      <td>3.517346e+00</td>\n",
       "      <td>3.161220e+01</td>\n",
       "      <td>3.384781e+01</td>\n",
       "      <td>25691.160000</td>\n",
       "      <td>1.000000</td>\n",
       "    </tr>\n",
       "  </tbody>\n",
       "</table>\n",
       "</div>"
      ],
      "text/plain": [
       "                Time            V1            V2            V3            V4  \\\n",
       "count  284807.000000  2.848070e+05  2.848070e+05  2.848070e+05  2.848070e+05   \n",
       "mean    94813.859575  3.919560e-15  5.688174e-16 -8.769071e-15  2.782312e-15   \n",
       "std     47488.145955  1.958696e+00  1.651309e+00  1.516255e+00  1.415869e+00   \n",
       "min         0.000000 -5.640751e+01 -7.271573e+01 -4.832559e+01 -5.683171e+00   \n",
       "25%     54201.500000 -9.203734e-01 -5.985499e-01 -8.903648e-01 -8.486401e-01   \n",
       "50%     84692.000000  1.810880e-02  6.548556e-02  1.798463e-01 -1.984653e-02   \n",
       "75%    139320.500000  1.315642e+00  8.037239e-01  1.027196e+00  7.433413e-01   \n",
       "max    172792.000000  2.454930e+00  2.205773e+01  9.382558e+00  1.687534e+01   \n",
       "\n",
       "                 V5           V26           V27           V28         Amount  \\\n",
       "count  2.848070e+05  2.848070e+05  2.848070e+05  2.848070e+05  284807.000000   \n",
       "mean  -1.552563e-15  1.699104e-15 -3.660161e-16 -1.206049e-16      88.349619   \n",
       "std    1.380247e+00  4.822270e-01  4.036325e-01  3.300833e-01     250.120109   \n",
       "min   -1.137433e+02 -2.604551e+00 -2.256568e+01 -1.543008e+01       0.000000   \n",
       "25%   -6.915971e-01 -3.269839e-01 -7.083953e-02 -5.295979e-02       5.600000   \n",
       "50%   -5.433583e-02 -5.213911e-02  1.342146e-03  1.124383e-02      22.000000   \n",
       "75%    6.119264e-01  2.409522e-01  9.104512e-02  7.827995e-02      77.165000   \n",
       "max    3.480167e+01  3.517346e+00  3.161220e+01  3.384781e+01   25691.160000   \n",
       "\n",
       "               Class  \n",
       "count  284807.000000  \n",
       "mean        0.001727  \n",
       "std         0.041527  \n",
       "min         0.000000  \n",
       "25%         0.000000  \n",
       "50%         0.000000  \n",
       "75%         0.000000  \n",
       "max         1.000000  "
      ]
     },
     "execution_count": 5,
     "metadata": {},
     "output_type": "execute_result"
    }
   ],
   "source": [
    "raw_df[['Time', 'V1', 'V2', 'V3', 'V4', 'V5', 'V26', 'V27', 'V28', 'Amount', 'Class']].describe()"
   ]
  },
  {
   "cell_type": "markdown",
   "metadata": {
    "colab_type": "text",
    "id": "xWKB_CVZFLpB"
   },
   "source": [
    "### Examine the class label imbalance\n",
    "\n",
    "Let's look at the dataset imbalance:"
   ]
  },
  {
   "cell_type": "code",
   "execution_count": 6,
   "metadata": {
    "colab": {},
    "colab_type": "code",
    "id": "HCJFrtuY2iLF"
   },
   "outputs": [
    {
     "name": "stdout",
     "output_type": "stream",
     "text": [
      "Examples:\n",
      "    Total: 284807\n",
      "    Positive: 492 (0.17% of total)\n",
      "\n"
     ]
    }
   ],
   "source": [
    "neg, pos = np.bincount(raw_df['Class'])\n",
    "total = neg + pos\n",
    "print('Examples:\\n    Total: {}\\n    Positive: {} ({:.2f}% of total)\\n'.format(\n",
    "    total, pos, 100 * pos / total))"
   ]
  },
  {
   "cell_type": "markdown",
   "metadata": {
    "colab_type": "text",
    "id": "KnLKFQDsCBUg"
   },
   "source": [
    "This shows the small fraction of positive samples."
   ]
  },
  {
   "cell_type": "markdown",
   "metadata": {
    "colab_type": "text",
    "id": "6qox6ryyzwdr"
   },
   "source": [
    "### Clean, split and normalize the data\n",
    "\n",
    "The raw data has a few issues. First the `Time` and `Amount` columns are too variable to use directly. Drop the `Time` column (since it's not clear what it means) and take the log of the `Amount` column to reduce its range."
   ]
  },
  {
   "cell_type": "code",
   "execution_count": 7,
   "metadata": {
    "colab": {},
    "colab_type": "code",
    "id": "Ef42jTuxEjnj"
   },
   "outputs": [],
   "source": [
    "cleaned_df = raw_df.copy()\n",
    "\n",
    "# You don't want the `Time` column.\n",
    "cleaned_df.pop('Time')\n",
    "\n",
    "# The `Amount` column covers a huge range. Convert to log-space.\n",
    "eps=0.001 # 0 => 0.1¢\n",
    "cleaned_df['Log Ammount'] = np.log(cleaned_df.pop('Amount')+eps)"
   ]
  },
  {
   "cell_type": "markdown",
   "metadata": {
    "colab_type": "text",
    "id": "uSNgdQFFFQ6u"
   },
   "source": [
    "Split the dataset into train, validation, and test sets. The validation set is used during the model fitting to evaluate the loss and any metrics, however the model is not fit with this data. The test set is completely unused during the training phase and is only used at the end to evaluate how well the model generalizes to new data. This is especially important with imbalanced datasets where [overfitting](https://developers.google.com/machine-learning/crash-course/generalization/peril-of-overfitting) is a significant concern from the lack of training data."
   ]
  },
  {
   "cell_type": "code",
   "execution_count": 8,
   "metadata": {
    "colab": {},
    "colab_type": "code",
    "id": "xfxhKg7Yr1-b"
   },
   "outputs": [],
   "source": [
    "# Use a utility from sklearn to split and shuffle our dataset.\n",
    "train_df, test_df = train_test_split(cleaned_df, test_size=0.2)\n",
    "train_df, val_df = train_test_split(train_df, test_size=0.2)\n",
    "\n",
    "# Form np arrays of labels and features.\n",
    "train_labels = np.array(train_df.pop('Class'))\n",
    "bool_train_labels = train_labels != 0\n",
    "val_labels = np.array(val_df.pop('Class'))\n",
    "test_labels = np.array(test_df.pop('Class'))\n",
    "\n",
    "train_features = np.array(train_df)\n",
    "val_features = np.array(val_df)\n",
    "test_features = np.array(test_df)"
   ]
  },
  {
   "cell_type": "markdown",
   "metadata": {
    "colab_type": "text",
    "id": "8a_Z_kBmr7Oh"
   },
   "source": [
    "Normalize the input features using the sklearn StandardScaler.\n",
    "This will set the mean to 0 and standard deviation to 1.\n",
    "\n",
    "Note: The `StandardScaler` is only fit using the `train_features` to be sure the model is not peeking at the validation or test sets. "
   ]
  },
  {
   "cell_type": "code",
   "execution_count": 9,
   "metadata": {
    "colab": {},
    "colab_type": "code",
    "id": "IO-qEUmJ5JQg"
   },
   "outputs": [
    {
     "name": "stdout",
     "output_type": "stream",
     "text": [
      "Training labels shape: (182276,)\n",
      "Validation labels shape: (45569,)\n",
      "Test labels shape: (56962,)\n",
      "Training features shape: (182276, 29)\n",
      "Validation features shape: (45569, 29)\n",
      "Test features shape: (56962, 29)\n"
     ]
    }
   ],
   "source": [
    "scaler = StandardScaler()\n",
    "train_features = scaler.fit_transform(train_features)\n",
    "\n",
    "val_features = scaler.transform(val_features)\n",
    "test_features = scaler.transform(test_features)\n",
    "\n",
    "train_features = np.clip(train_features, -5, 5)\n",
    "val_features = np.clip(val_features, -5, 5)\n",
    "test_features = np.clip(test_features, -5, 5)\n",
    "\n",
    "\n",
    "print('Training labels shape:', train_labels.shape)\n",
    "print('Validation labels shape:', val_labels.shape)\n",
    "print('Test labels shape:', test_labels.shape)\n",
    "\n",
    "print('Training features shape:', train_features.shape)\n",
    "print('Validation features shape:', val_features.shape)\n",
    "print('Test features shape:', test_features.shape)\n"
   ]
  },
  {
   "cell_type": "markdown",
   "metadata": {
    "colab_type": "text",
    "id": "XF2nNfWKJ33w"
   },
   "source": [
    "Caution: If you want to deploy a model, it's critical that you preserve the preprocessing calculations. The easiest way to implement them as layers, and attach them to your model before export.\n"
   ]
  },
  {
   "cell_type": "markdown",
   "metadata": {
    "colab_type": "text",
    "id": "uQ7m9nqDC3W6"
   },
   "source": [
    "### Look at the data distribution\n",
    "\n",
    "Next compare the distributions of the positive and negative examples over a few features. Good questions to ask yourself at this point are:\n",
    "\n",
    "* Do these distributions make sense? \n",
    "    * Yes. You've normalized the input and these are mostly concentrated in the `+/- 2` range.\n",
    "* Can you see the difference between the distributions?\n",
    "    * Yes the positive examples contain a much higher rate of extreme values."
   ]
  },
  {
   "cell_type": "code",
   "execution_count": 10,
   "metadata": {
    "colab": {},
    "colab_type": "code",
    "id": "raK7hyjd_vf6"
   },
   "outputs": [
    {
     "data": {
      "image/png": "[encoded data removed]",
      "text/plain": [
       "<Figure size 432x432 with 3 Axes>"
      ]
     },
     "metadata": {
      "needs_background": "light"
     },
     "output_type": "display_data"
    },
    {
     "data": {
      "image/png": "[encoded data removed]",
      "text/plain": [
       "<Figure size 432x432 with 3 Axes>"
      ]
     },
     "metadata": {
      "needs_background": "light"
     },
     "output_type": "display_data"
    }
   ],
   "source": [
    "pos_df = pd.DataFrame(train_features[ bool_train_labels], columns = train_df.columns)\n",
    "neg_df = pd.DataFrame(train_features[~bool_train_labels], columns = train_df.columns)\n",
    "\n",
    "sns.jointplot(pos_df['V5'], pos_df['V6'],\n",
    "              kind='hex', xlim = (-5,5), ylim = (-5,5))\n",
    "plt.suptitle(\"Positive distribution\")\n",
    "\n",
    "sns.jointplot(neg_df['V5'], neg_df['V6'],\n",
    "              kind='hex', xlim = (-5,5), ylim = (-5,5))\n",
    "_ = plt.suptitle(\"Negative distribution\")"
   ]
  },
  {
   "cell_type": "markdown",
   "metadata": {
    "colab_type": "text",
    "id": "qFK1u4JX16D8"
   },
   "source": [
    "## Define the model and metrics\n",
    "\n",
    "Define a function that creates a simple neural network with a densly connected hidden layer, a [dropout](https://developers.google.com/machine-learning/glossary/#dropout_regularization) layer to reduce overfitting, and an output sigmoid layer that returns the probability of a transaction being fraudulent: "
   ]
  },
  {
   "cell_type": "code",
   "execution_count": 11,
   "metadata": {
    "colab": {},
    "colab_type": "code",
    "id": "3JQDzUqT3UYG"
   },
   "outputs": [],
   "source": [
    "METRICS = [\n",
    "      keras.metrics.TruePositives(name='tp'),\n",
    "      keras.metrics.FalsePositives(name='fp'),\n",
    "      keras.metrics.TrueNegatives(name='tn'),\n",
    "      keras.metrics.FalseNegatives(name='fn'), \n",
    "      keras.metrics.BinaryAccuracy(name='accuracy'),\n",
    "      keras.metrics.Precision(name='precision'),\n",
    "      keras.metrics.Recall(name='recall'),\n",
    "      keras.metrics.AUC(name='auc'),\n",
    "]\n",
    "\n",
    "def make_model(metrics = METRICS, output_bias=None):\n",
    "  if output_bias is not None:\n",
    "    output_bias = tf.keras.initializers.Constant(output_bias)\n",
    "  model = keras.Sequential([\n",
    "      keras.layers.Dense(\n",
    "          16, activation='relu',\n",
    "          input_shape=(train_features.shape[-1],)),\n",
    "      keras.layers.Dropout(0.5),\n",
    "      keras.layers.Dense(1, activation='sigmoid',\n",
    "                         bias_initializer=output_bias),\n",
    "  ])\n",
    "\n",
    "  model.compile(\n",
    "      optimizer=keras.optimizers.Adam(lr=1e-3),\n",
    "      loss=keras.losses.BinaryCrossentropy(),\n",
    "      metrics=metrics)\n",
    "\n",
    "  return model"
   ]
  },
  {
   "cell_type": "markdown",
   "metadata": {
    "colab_type": "text",
    "id": "SU0GX6E6mieP"
   },
   "source": [
    "### Understanding useful metrics\n",
    "\n",
    "Notice that there are a few metrics defined above that can be computed by the model that will be helpful when evaluating the performance.\n",
    "\n",
    "\n",
    "\n",
    "*   **False** negatives and **false** positives are samples that were **incorrectly** classified\n",
    "*   **True** negatives and **true** positives are samples that were **correctly** classified\n",
    "*   **Accuracy** is the percentage of examples correctly classified\n",
    ">   $\\frac{\\text{true samples}}{\\text{total samples}}$\n",
    "*   **Precision** is the percentage of **predicted** positives that were correctly classified\n",
    ">   $\\frac{\\text{true positives}}{\\text{true positives + false positives}}$\n",
    "*   **Recall** is the percentage of **actual** positives that were correctly classified\n",
    ">   $\\frac{\\text{true positives}}{\\text{true positives + false negatives}}$\n",
    "*   **AUC** refers to the Area Under the Curve of a Receiver Operating Characteristic curve (ROC-AUC). This metric is equal to the probability that a classifier will rank a random positive sample higher than a random negative sample.\n",
    "\n",
    "Note: Accuracy is not a helpful metric for this task. You can 99.8%+ accuracy on this task by predicting False all the time.  \n",
    "\n",
    "Read more:\n",
    "*  [True vs. False and Positive vs. Negative](https://developers.google.com/machine-learning/crash-course/classification/true-false-positive-negative)\n",
    "*  [Accuracy](https://developers.google.com/machine-learning/crash-course/classification/accuracy)\n",
    "*   [Precision and Recall](https://developers.google.com/machine-learning/crash-course/classification/precision-and-recall)\n",
    "*   [ROC-AUC](https://developers.google.com/machine-learning/crash-course/classification/roc-and-auc)"
   ]
  },
  {
   "cell_type": "markdown",
   "metadata": {
    "colab_type": "text",
    "id": "FYdhSAoaF_TK"
   },
   "source": [
    "## Baseline model"
   ]
  },
  {
   "cell_type": "markdown",
   "metadata": {
    "colab_type": "text",
    "id": "IDbltVPg2m2q"
   },
   "source": [
    "### Build the model\n",
    "\n",
    "Now create and train your model using the function that was defined earlier. Notice that the model is fit using a larger than default batch size of 2048, this is important to ensure that each batch has a decent chance of containing a few positive samples. If the batch size was too small, they would likely have no fraudulent transactions to learn from.\n",
    "\n",
    "\n",
    "Note: this model will not handle the class imbalance well. You will improve it later in this tutorial."
   ]
  },
  {
   "cell_type": "code",
   "execution_count": 12,
   "metadata": {
    "colab": {},
    "colab_type": "code",
    "id": "ouUkwPcGQsy3"
   },
   "outputs": [],
   "source": [
    "EPOCHS = 100\n",
    "BATCH_SIZE = 2048\n",
    "\n",
    "early_stopping = tf.keras.callbacks.EarlyStopping(\n",
    "    monitor='val_auc', \n",
    "    verbose=1,\n",
    "    patience=10,\n",
    "    mode='max',\n",
    "    restore_best_weights=True)"
   ]
  },
  {
   "cell_type": "code",
   "execution_count": 13,
   "metadata": {
    "colab": {},
    "colab_type": "code",
    "id": "1xlR_dekzw7C"
   },
   "outputs": [
    {
     "name": "stdout",
     "output_type": "stream",
     "text": [
      "WARNING:tensorflow:From C:\\ProgramData\\Anaconda3\\lib\\site-packages\\tensorflow\\python\\ops\\init_ops.py:1251: calling VarianceScaling.__init__ (from tensorflow.python.ops.init_ops) with dtype is deprecated and will be removed in a future version.\n",
      "Instructions for updating:\n",
      "Call initializer instance with the dtype argument instead of passing it to the constructor\n",
      "WARNING:tensorflow:From C:\\ProgramData\\Anaconda3\\lib\\site-packages\\tensorflow\\python\\ops\\nn_impl.py:180: add_dispatch_support.<locals>.wrapper (from tensorflow.python.ops.array_ops) is deprecated and will be removed in a future version.\n",
      "Instructions for updating:\n",
      "Use tf.where in 2.0, which has the same broadcast rule as np.where\n",
      "Model: \"sequential\"\n",
      "_________________________________________________________________\n",
      "Layer (type)                 Output Shape              Param #   \n",
      "=================================================================\n",
      "dense (Dense)                (None, 16)                480       \n",
      "_________________________________________________________________\n",
      "dropout (Dropout)            (None, 16)                0         \n",
      "_________________________________________________________________\n",
      "dense_1 (Dense)              (None, 1)                 17        \n",
      "=================================================================\n",
      "Total params: 497\n",
      "Trainable params: 497\n",
      "Non-trainable params: 0\n",
      "_________________________________________________________________\n"
     ]
    }
   ],
   "source": [
    "model = make_model()\n",
    "model.summary()"
   ]
  },
  {
   "cell_type": "markdown",
   "metadata": {
    "colab_type": "text",
    "id": "Wx7ND3_SqckO"
   },
   "source": [
    "Test run the model:"
   ]
  },
  {
   "cell_type": "code",
   "execution_count": 14,
   "metadata": {
    "colab": {},
    "colab_type": "code",
    "id": "LopSd-yQqO3a"
   },
   "outputs": [
    {
     "data": {
      "text/plain": [
       "array([[0.43888003],\n",
       "       [0.42386156],\n",
       "       [0.42053103],\n",
       "       [0.4990687 ],\n",
       "       [0.5150967 ],\n",
       "       [0.25114214],\n",
       "       [0.32743335],\n",
       "       [0.37836242],\n",
       "       [0.51570016],\n",
       "       [0.41636702]], dtype=float32)"
      ]
     },
     "execution_count": 14,
     "metadata": {},
     "output_type": "execute_result"
    }
   ],
   "source": [
    "model.predict(train_features[:10])"
   ]
  },
  {
   "cell_type": "markdown",
   "metadata": {
    "colab_type": "text",
    "id": "YKIgWqHms_03"
   },
   "source": [
    "### Optional: Set the correct initial bias."
   ]
  },
  {
   "cell_type": "markdown",
   "metadata": {
    "colab_type": "text",
    "id": "qk_3Ry6EoYDq"
   },
   "source": [
    "These initial guesses are not great. You know the dataset is imbalanced. Set the output layer's bias to reflect that (See: [A Recipe for Training Neural Networks: \"init well\"](http://karpathy.github.io/2019/04/25/recipe/#2-set-up-the-end-to-end-trainingevaluation-skeleton--get-dumb-baselines)). This can help with initial convergence."
   ]
  },
  {
   "cell_type": "markdown",
   "metadata": {
    "colab_type": "text",
    "id": "PdbfWDuVpo6k"
   },
   "source": [
    "With the default bias initialization the loss should be about `math.log(2) = 0.69314` "
   ]
  },
  {
   "cell_type": "code",
   "execution_count": 15,
   "metadata": {
    "colab": {},
    "colab_type": "code",
    "id": "H-oPqh3SoGXk"
   },
   "outputs": [
    {
     "name": "stdout",
     "output_type": "stream",
     "text": [
      "Loss: 0.5034\n"
     ]
    }
   ],
   "source": [
    "results = model.evaluate(train_features, train_labels, batch_size=BATCH_SIZE, verbose=0)\n",
    "print(\"Loss: {:0.4f}\".format(results[0]))"
   ]
  },
  {
   "cell_type": "markdown",
   "metadata": {
    "colab_type": "text",
    "id": "hE-JRzfKqfhB"
   },
   "source": [
    "The correct bias to set can be derived from:\n",
    "\n",
    "$$ p_0 = pos/(pos + neg) = 1/(1+e^{-b_0}) $$\n",
    "$$ b_0 = -log_e(1/p_0 - 1) $$\n",
    "$$ b_0 = log_e(pos/neg)$$"
   ]
  },
  {
   "cell_type": "code",
   "execution_count": 16,
   "metadata": {
    "colab": {},
    "colab_type": "code",
    "id": "F5KWPSjjstUS"
   },
   "outputs": [
    {
     "data": {
      "text/plain": [
       "array([-6.35935934])"
      ]
     },
     "execution_count": 16,
     "metadata": {},
     "output_type": "execute_result"
    }
   ],
   "source": [
    "initial_bias = np.log([pos/neg])\n",
    "initial_bias"
   ]
  },
  {
   "cell_type": "markdown",
   "metadata": {
    "colab_type": "text",
    "id": "d1juXI9yY1KD"
   },
   "source": [
    "Set that as the initial bias, and the model will give much more reasonable initial guesses. \n",
    "\n",
    "It should be near: `pos/total = 0.0018`"
   ]
  },
  {
   "cell_type": "code",
   "execution_count": 17,
   "metadata": {
    "colab": {},
    "colab_type": "code",
    "id": "50oyu1uss0i-"
   },
   "outputs": [
    {
     "data": {
      "text/plain": [
       "array([[0.0014694 ],\n",
       "       [0.00114095],\n",
       "       [0.00132301],\n",
       "       [0.00182903],\n",
       "       [0.00190771],\n",
       "       [0.00154525],\n",
       "       [0.00297567],\n",
       "       [0.00096905],\n",
       "       [0.00127706],\n",
       "       [0.00138589]], dtype=float32)"
      ]
     },
     "execution_count": 17,
     "metadata": {},
     "output_type": "execute_result"
    }
   ],
   "source": [
    "model = make_model(output_bias = initial_bias)\n",
    "model.predict(train_features[:10])"
   ]
  },
  {
   "cell_type": "markdown",
   "metadata": {
    "colab_type": "text",
    "id": "4xqFYb2KqRHQ"
   },
   "source": [
    "With this initialization the initial loss should be approximately:\n",
    "\n",
    "$$-p_0log(p_0)-(1-p_0)log(1-p_0) = 0.01317$$"
   ]
  },
  {
   "cell_type": "code",
   "execution_count": 18,
   "metadata": {
    "colab": {},
    "colab_type": "code",
    "id": "xVDqCWXDqHSc"
   },
   "outputs": [
    {
     "name": "stdout",
     "output_type": "stream",
     "text": [
      "Loss: 0.0105\n"
     ]
    }
   ],
   "source": [
    "results = model.evaluate(train_features, train_labels, batch_size=BATCH_SIZE, verbose=0)\n",
    "print(\"Loss: {:0.4f}\".format(results[0]))"
   ]
  },
  {
   "cell_type": "markdown",
   "metadata": {
    "colab_type": "text",
    "id": "FrDC8hvNr9yw"
   },
   "source": [
    "This initial loss is about 50 times less than if would have been with naive initialization.\n",
    "\n",
    "This way the model doesn't need to spend the first few epochs just learning that positive examples are unlikely. This also makes it easier to read plots of the loss during training."
   ]
  },
  {
   "cell_type": "markdown",
   "metadata": {
    "colab_type": "text",
    "id": "0EJj9ixKVBMT"
   },
   "source": [
    "### Checkpoint the initial weights\n",
    "\n",
    "To make the various training runs more comparable, keep this initial model's weights in a checkpoint file, and load them into each model before training."
   ]
  },
  {
   "cell_type": "code",
   "execution_count": 19,
   "metadata": {
    "colab": {},
    "colab_type": "code",
    "id": "_tSUm4yAVIif"
   },
   "outputs": [],
   "source": [
    "initial_weights = os.path.join(tempfile.mkdtemp(),'initial_weights')\n",
    "model.save_weights(initial_weights)"
   ]
  },
  {
   "cell_type": "markdown",
   "metadata": {
    "colab_type": "text",
    "id": "EVXiLyqyZ8AX"
   },
   "source": [
    "### Confirm that the bias fix helps\n",
    "\n",
    "Before moving on, confirm quick that the careful bias initialization actually helped.\n",
    "\n",
    "Train the model for 20 epochs, with and without this careful initialization, and compare the losses: "
   ]
  },
  {
   "cell_type": "code",
   "execution_count": 20,
   "metadata": {
    "colab": {},
    "colab_type": "code",
    "id": "Dm4-4K5RZ63Q"
   },
   "outputs": [],
   "source": [
    "model = make_model()\n",
    "model.load_weights(initial_weights)\n",
    "model.layers[-1].bias.assign([0.0])\n",
    "zero_bias_history = model.fit(\n",
    "    train_features,\n",
    "    train_labels,\n",
    "    batch_size=BATCH_SIZE,\n",
    "    epochs=20,\n",
    "    validation_data=(val_features, val_labels), \n",
    "    verbose=0)"
   ]
  },
  {
   "cell_type": "code",
   "execution_count": 21,
   "metadata": {
    "colab": {},
    "colab_type": "code",
    "id": "j8DsLXHQaSql"
   },
   "outputs": [],
   "source": [
    "model = make_model()\n",
    "model.load_weights(initial_weights)\n",
    "careful_bias_history = model.fit(\n",
    "    train_features,\n",
    "    train_labels,\n",
    "    batch_size=BATCH_SIZE,\n",
    "    epochs=20,\n",
    "    validation_data=(val_features, val_labels), \n",
    "    verbose=0)"
   ]
  },
  {
   "cell_type": "code",
   "execution_count": 22,
   "metadata": {
    "colab": {},
    "colab_type": "code",
    "id": "E3XsMBjhauFV"
   },
   "outputs": [],
   "source": [
    "def plot_loss(history, label, n):\n",
    "  # Use a log scale to show the wide range of values.\n",
    "  plt.semilogy(history.epoch,  history.history['loss'],\n",
    "               color=colors[n], label='Train '+label)\n",
    "  plt.semilogy(history.epoch,  history.history['val_loss'],\n",
    "          color=colors[n], label='Val '+label,\n",
    "          linestyle=\"--\")\n",
    "  plt.xlabel('Epoch')\n",
    "  plt.ylabel('Loss')\n",
    "  \n",
    "  plt.legend()"
   ]
  },
  {
   "cell_type": "code",
   "execution_count": 23,
   "metadata": {
    "colab": {},
    "colab_type": "code",
    "id": "dxFaskm7beC7"
   },
   "outputs": [
    {
     "data": {
      "image/png": "[encoded data removed]",
      "text/plain": [
       "<Figure size 864x720 with 1 Axes>"
      ]
     },
     "metadata": {
      "needs_background": "light"
     },
     "output_type": "display_data"
    }
   ],
   "source": [
    "plot_loss(zero_bias_history, \"Zero Bias\", 0)\n",
    "plot_loss(careful_bias_history, \"Careful Bias\", 1)"
   ]
  },
  {
   "cell_type": "markdown",
   "metadata": {
    "colab_type": "text",
    "id": "fKMioV0ddG3R"
   },
   "source": [
    "The above figure makes it clear: In terms of validation loss, on this problem, this careful initialization gives a clear advantage. "
   ]
  },
  {
   "cell_type": "markdown",
   "metadata": {
    "colab_type": "text",
    "id": "RsA_7SEntRaV"
   },
   "source": [
    "### Train the model"
   ]
  },
  {
   "cell_type": "code",
   "execution_count": 24,
   "metadata": {
    "colab": {},
    "colab_type": "code",
    "id": "yZKAc8NCDnoR"
   },
   "outputs": [
    {
     "name": "stdout",
     "output_type": "stream",
     "text": [
      "Train on 182276 samples, validate on 45569 samples\n",
      "Epoch 1/100\n",
      "182276/182276 [==============================] - 2s 12us/sample - loss: 0.0097 - tp: 28.0000 - fp: 47.0000 - tn: 181948.0000 - fn: 253.0000 - accuracy: 0.9984 - precision: 0.3733 - recall: 0.0996 - auc: 0.7664 - val_loss: 0.0068 - val_tp: 27.0000 - val_fp: 7.0000 - val_tn: 45471.0000 - val_fn: 64.0000 - val_accuracy: 0.9984 - val_precision: 0.7941 - val_recall: 0.2967 - val_auc: 0.9117\n",
      "Epoch 2/100\n",
      "182276/182276 [==============================] - 1s 7us/sample - loss: 0.0068 - tp: 99.0000 - fp: 22.0000 - tn: 181973.0000 - fn: 182.0000 - accuracy: 0.9989 - precision: 0.8182 - recall: 0.3523 - auc: 0.8473 - val_loss: 0.0053 - val_tp: 45.0000 - val_fp: 10.0000 - val_tn: 45468.0000 - val_fn: 46.0000 - val_accuracy: 0.9988 - val_precision: 0.8182 - val_recall: 0.4945 - val_auc: 0.9118\n",
      "Epoch 3/100\n",
      "182276/182276 [==============================] - 2s 9us/sample - loss: 0.0054 - tp: 129.0000 - fp: 20.0000 - tn: 181975.0000 - fn: 152.0000 - accuracy: 0.9991 - precision: 0.8658 - recall: 0.4591 - auc: 0.8990 - val_loss: 0.0049 - val_tp: 61.0000 - val_fp: 11.0000 - val_tn: 45467.0000 - val_fn: 30.0000 - val_accuracy: 0.9991 - val_precision: 0.8472 - val_recall: 0.6703 - val_auc: 0.9118\n",
      "Epoch 4/100\n",
      "182276/182276 [==============================] - 1s 8us/sample - loss: 0.0050 - tp: 141.0000 - fp: 23.0000 - tn: 181972.0000 - fn: 140.0000 - accuracy: 0.9991 - precision: 0.8598 - recall: 0.5018 - auc: 0.8892 - val_loss: 0.0046 - val_tp: 64.0000 - val_fp: 11.0000 - val_tn: 45467.0000 - val_fn: 27.0000 - val_accuracy: 0.9992 - val_precision: 0.8533 - val_recall: 0.7033 - val_auc: 0.9118\n",
      "Epoch 5/100\n",
      "182276/182276 [==============================] - 1s 7us/sample - loss: 0.0048 - tp: 147.0000 - fp: 27.0000 - tn: 181968.0000 - fn: 134.0000 - accuracy: 0.9991 - precision: 0.8448 - recall: 0.5231 - auc: 0.9022 - val_loss: 0.0045 - val_tp: 65.0000 - val_fp: 11.0000 - val_tn: 45467.0000 - val_fn: 26.0000 - val_accuracy: 0.9992 - val_precision: 0.8553 - val_recall: 0.7143 - val_auc: 0.9173\n",
      "Epoch 6/100\n",
      "182276/182276 [==============================] - 1s 8us/sample - loss: 0.0044 - tp: 162.0000 - fp: 25.0000 - tn: 181970.0000 - fn: 119.0000 - accuracy: 0.9992 - precision: 0.8663 - recall: 0.5765 - auc: 0.9113 - val_loss: 0.0044 - val_tp: 66.0000 - val_fp: 11.0000 - val_tn: 45467.0000 - val_fn: 25.0000 - val_accuracy: 0.9992 - val_precision: 0.8571 - val_recall: 0.7253 - val_auc: 0.9173\n",
      "Epoch 7/100\n",
      "182276/182276 [==============================] - 2s 10us/sample - loss: 0.0045 - tp: 158.0000 - fp: 24.0000 - tn: 181971.0000 - fn: 123.0000 - accuracy: 0.9992 - precision: 0.8681 - recall: 0.5623 - auc: 0.9078 - val_loss: 0.0042 - val_tp: 68.0000 - val_fp: 11.0000 - val_tn: 45467.0000 - val_fn: 23.0000 - val_accuracy: 0.9993 - val_precision: 0.8608 - val_recall: 0.7473 - val_auc: 0.9227\n",
      "Epoch 8/100\n",
      "182276/182276 [==============================] - 2s 8us/sample - loss: 0.0043 - tp: 149.0000 - fp: 28.0000 - tn: 181967.0000 - fn: 132.0000 - accuracy: 0.9991 - precision: 0.8418 - recall: 0.5302 - auc: 0.9240 - val_loss: 0.0042 - val_tp: 70.0000 - val_fp: 11.0000 - val_tn: 45467.0000 - val_fn: 21.0000 - val_accuracy: 0.9993 - val_precision: 0.8642 - val_recall: 0.7692 - val_auc: 0.9227\n",
      "Epoch 9/100\n",
      "182276/182276 [==============================] - 1s 6us/sample - loss: 0.0042 - tp: 162.0000 - fp: 28.0000 - tn: 181967.0000 - fn: 119.0000 - accuracy: 0.9992 - precision: 0.8526 - recall: 0.5765 - auc: 0.9133 - val_loss: 0.0041 - val_tp: 70.0000 - val_fp: 11.0000 - val_tn: 45467.0000 - val_fn: 21.0000 - val_accuracy: 0.9993 - val_precision: 0.8642 - val_recall: 0.7692 - val_auc: 0.9282\n",
      "Epoch 10/100\n",
      "182276/182276 [==============================] - 2s 10us/sample - loss: 0.0042 - tp: 155.0000 - fp: 30.0000 - tn: 181965.0000 - fn: 126.0000 - accuracy: 0.9991 - precision: 0.8378 - recall: 0.5516 - auc: 0.9153 - val_loss: 0.0040 - val_tp: 70.0000 - val_fp: 11.0000 - val_tn: 45467.0000 - val_fn: 21.0000 - val_accuracy: 0.9993 - val_precision: 0.8642 - val_recall: 0.7692 - val_auc: 0.9282\n",
      "Epoch 11/100\n",
      "182276/182276 [==============================] - 1s 7us/sample - loss: 0.0041 - tp: 167.0000 - fp: 29.0000 - tn: 181966.0000 - fn: 114.0000 - accuracy: 0.9992 - precision: 0.8520 - recall: 0.5943 - auc: 0.9151 - val_loss: 0.0038 - val_tp: 70.0000 - val_fp: 11.0000 - val_tn: 45467.0000 - val_fn: 21.0000 - val_accuracy: 0.9993 - val_precision: 0.8642 - val_recall: 0.7692 - val_auc: 0.9282\n",
      "Epoch 12/100\n",
      "182276/182276 [==============================] - 2s 8us/sample - loss: 0.0044 - tp: 149.0000 - fp: 26.0000 - tn: 181969.0000 - fn: 132.0000 - accuracy: 0.9991 - precision: 0.8514 - recall: 0.5302 - auc: 0.9026 - val_loss: 0.0038 - val_tp: 70.0000 - val_fp: 11.0000 - val_tn: 45467.0000 - val_fn: 21.0000 - val_accuracy: 0.9993 - val_precision: 0.8642 - val_recall: 0.7692 - val_auc: 0.9282\n",
      "Epoch 13/100\n",
      "182276/182276 [==============================] - 2s 10us/sample - loss: 0.0041 - tp: 153.0000 - fp: 28.0000 - tn: 181967.0000 - fn: 128.0000 - accuracy: 0.9991 - precision: 0.8453 - recall: 0.5445 - auc: 0.9170 - val_loss: 0.0038 - val_tp: 72.0000 - val_fp: 11.0000 - val_tn: 45467.0000 - val_fn: 19.0000 - val_accuracy: 0.9993 - val_precision: 0.8675 - val_recall: 0.7912 - val_auc: 0.9337\n",
      "Epoch 14/100\n",
      "182276/182276 [==============================] - 1s 7us/sample - loss: 0.0043 - tp: 152.0000 - fp: 30.0000 - tn: 181965.0000 - fn: 129.0000 - accuracy: 0.9991 - precision: 0.8352 - recall: 0.5409 - auc: 0.9116 - val_loss: 0.0037 - val_tp: 72.0000 - val_fp: 11.0000 - val_tn: 45467.0000 - val_fn: 19.0000 - val_accuracy: 0.9993 - val_precision: 0.8675 - val_recall: 0.7912 - val_auc: 0.9282\n",
      "Epoch 15/100\n",
      "182276/182276 [==============================] - 1s 7us/sample - loss: 0.0040 - tp: 158.0000 - fp: 21.0000 - tn: 181974.0000 - fn: 123.0000 - accuracy: 0.9992 - precision: 0.8827 - recall: 0.5623 - auc: 0.9189 - val_loss: 0.0037 - val_tp: 72.0000 - val_fp: 11.0000 - val_tn: 45467.0000 - val_fn: 19.0000 - val_accuracy: 0.9993 - val_precision: 0.8675 - val_recall: 0.7912 - val_auc: 0.9337\n",
      "Epoch 16/100\n",
      "182276/182276 [==============================] - 1s 7us/sample - loss: 0.0042 - tp: 153.0000 - fp: 32.0000 - tn: 181963.0000 - fn: 128.0000 - accuracy: 0.9991 - precision: 0.8270 - recall: 0.5445 - auc: 0.9152 - val_loss: 0.0037 - val_tp: 72.0000 - val_fp: 11.0000 - val_tn: 45467.0000 - val_fn: 19.0000 - val_accuracy: 0.9993 - val_precision: 0.8675 - val_recall: 0.7912 - val_auc: 0.9282\n",
      "Epoch 17/100\n",
      "182276/182276 [==============================] - 1s 7us/sample - loss: 0.0037 - tp: 172.0000 - fp: 28.0000 - tn: 181967.0000 - fn: 109.0000 - accuracy: 0.9992 - precision: 0.8600 - recall: 0.6121 - auc: 0.9280 - val_loss: 0.0036 - val_tp: 71.0000 - val_fp: 10.0000 - val_tn: 45468.0000 - val_fn: 20.0000 - val_accuracy: 0.9993 - val_precision: 0.8765 - val_recall: 0.7802 - val_auc: 0.9283\n",
      "Epoch 18/100\n",
      "182276/182276 [==============================] - 1s 7us/sample - loss: 0.0039 - tp: 162.0000 - fp: 29.0000 - tn: 181966.0000 - fn: 119.0000 - accuracy: 0.9992 - precision: 0.8482 - recall: 0.5765 - auc: 0.9296 - val_loss: 0.0036 - val_tp: 72.0000 - val_fp: 10.0000 - val_tn: 45468.0000 - val_fn: 19.0000 - val_accuracy: 0.9994 - val_precision: 0.8780 - val_recall: 0.7912 - val_auc: 0.9337\n",
      "Epoch 19/100\n",
      "182276/182276 [==============================] - 2s 10us/sample - loss: 0.0038 - tp: 168.0000 - fp: 23.0000 - tn: 181972.0000 - fn: 113.0000 - accuracy: 0.9993 - precision: 0.8796 - recall: 0.5979 - auc: 0.9171 - val_loss: 0.0036 - val_tp: 72.0000 - val_fp: 10.0000 - val_tn: 45468.0000 - val_fn: 19.0000 - val_accuracy: 0.9994 - val_precision: 0.8780 - val_recall: 0.7912 - val_auc: 0.9337\n",
      "Epoch 20/100\n",
      "182276/182276 [==============================] - 2s 9us/sample - loss: 0.0037 - tp: 165.0000 - fp: 28.0000 - tn: 181967.0000 - fn: 116.0000 - accuracy: 0.9992 - precision: 0.8549 - recall: 0.5872 - auc: 0.9224 - val_loss: 0.0036 - val_tp: 72.0000 - val_fp: 10.0000 - val_tn: 45468.0000 - val_fn: 19.0000 - val_accuracy: 0.9994 - val_precision: 0.8780 - val_recall: 0.7912 - val_auc: 0.9337\n",
      "Epoch 21/100\n"
     ]
    },
    {
     "name": "stdout",
     "output_type": "stream",
     "text": [
      "182276/182276 [==============================] - 2s 9us/sample - loss: 0.0038 - tp: 161.0000 - fp: 29.0000 - tn: 181966.0000 - fn: 120.0000 - accuracy: 0.9992 - precision: 0.8474 - recall: 0.5730 - auc: 0.9243 - val_loss: 0.0036 - val_tp: 72.0000 - val_fp: 10.0000 - val_tn: 45468.0000 - val_fn: 19.0000 - val_accuracy: 0.9994 - val_precision: 0.8780 - val_recall: 0.7912 - val_auc: 0.9337\n",
      "Epoch 22/100\n",
      "182276/182276 [==============================] - 1s 7us/sample - loss: 0.0035 - tp: 170.0000 - fp: 28.0000 - tn: 181967.0000 - fn: 111.0000 - accuracy: 0.9992 - precision: 0.8586 - recall: 0.6050 - auc: 0.9226 - val_loss: 0.0036 - val_tp: 73.0000 - val_fp: 10.0000 - val_tn: 45468.0000 - val_fn: 18.0000 - val_accuracy: 0.9994 - val_precision: 0.8795 - val_recall: 0.8022 - val_auc: 0.9337\n",
      "Epoch 23/100\n",
      "182276/182276 [==============================] - 2s 9us/sample - loss: 0.0038 - tp: 166.0000 - fp: 30.0000 - tn: 181965.0000 - fn: 115.0000 - accuracy: 0.9992 - precision: 0.8469 - recall: 0.5907 - auc: 0.9314 - val_loss: 0.0036 - val_tp: 72.0000 - val_fp: 10.0000 - val_tn: 45468.0000 - val_fn: 19.0000 - val_accuracy: 0.9994 - val_precision: 0.8780 - val_recall: 0.7912 - val_auc: 0.9337\n",
      "Epoch 24/100\n",
      "182276/182276 [==============================] - 1s 8us/sample - loss: 0.0037 - tp: 164.0000 - fp: 24.0000 - tn: 181971.0000 - fn: 117.0000 - accuracy: 0.9992 - precision: 0.8723 - recall: 0.5836 - auc: 0.9280 - val_loss: 0.0036 - val_tp: 72.0000 - val_fp: 10.0000 - val_tn: 45468.0000 - val_fn: 19.0000 - val_accuracy: 0.9994 - val_precision: 0.8780 - val_recall: 0.7912 - val_auc: 0.9337\n",
      "Epoch 25/100\n",
      "182276/182276 [==============================] - 1s 7us/sample - loss: 0.0035 - tp: 170.0000 - fp: 26.0000 - tn: 181969.0000 - fn: 111.0000 - accuracy: 0.9992 - precision: 0.8673 - recall: 0.6050 - auc: 0.9280 - val_loss: 0.0036 - val_tp: 73.0000 - val_fp: 10.0000 - val_tn: 45468.0000 - val_fn: 18.0000 - val_accuracy: 0.9994 - val_precision: 0.8795 - val_recall: 0.8022 - val_auc: 0.9337\n",
      "Epoch 26/100\n",
      "182276/182276 [==============================] - 1s 8us/sample - loss: 0.0035 - tp: 179.0000 - fp: 29.0000 - tn: 181966.0000 - fn: 102.0000 - accuracy: 0.9993 - precision: 0.8606 - recall: 0.6370 - auc: 0.9262 - val_loss: 0.0036 - val_tp: 73.0000 - val_fp: 10.0000 - val_tn: 45468.0000 - val_fn: 18.0000 - val_accuracy: 0.9994 - val_precision: 0.8795 - val_recall: 0.8022 - val_auc: 0.9337\n",
      "Epoch 27/100\n",
      "182276/182276 [==============================] - 2s 9us/sample - loss: 0.0035 - tp: 172.0000 - fp: 26.0000 - tn: 181969.0000 - fn: 109.0000 - accuracy: 0.9993 - precision: 0.8687 - recall: 0.6121 - auc: 0.9245 - val_loss: 0.0036 - val_tp: 71.0000 - val_fp: 10.0000 - val_tn: 45468.0000 - val_fn: 20.0000 - val_accuracy: 0.9993 - val_precision: 0.8765 - val_recall: 0.7802 - val_auc: 0.9337\n",
      "Epoch 28/100\n",
      "182276/182276 [==============================] - 1s 7us/sample - loss: 0.0036 - tp: 170.0000 - fp: 32.0000 - tn: 181963.0000 - fn: 111.0000 - accuracy: 0.9992 - precision: 0.8416 - recall: 0.6050 - auc: 0.9315 - val_loss: 0.0036 - val_tp: 71.0000 - val_fp: 9.0000 - val_tn: 45469.0000 - val_fn: 20.0000 - val_accuracy: 0.9994 - val_precision: 0.8875 - val_recall: 0.7802 - val_auc: 0.9337\n",
      "Epoch 29/100\n",
      "182276/182276 [==============================] - 2s 9us/sample - loss: 0.0036 - tp: 173.0000 - fp: 27.0000 - tn: 181968.0000 - fn: 108.0000 - accuracy: 0.9993 - precision: 0.8650 - recall: 0.6157 - auc: 0.9226 - val_loss: 0.0036 - val_tp: 71.0000 - val_fp: 9.0000 - val_tn: 45469.0000 - val_fn: 20.0000 - val_accuracy: 0.9994 - val_precision: 0.8875 - val_recall: 0.7802 - val_auc: 0.9337\n",
      "Epoch 30/100\n",
      "182276/182276 [==============================] - 2s 10us/sample - loss: 0.0036 - tp: 169.0000 - fp: 26.0000 - tn: 181969.0000 - fn: 112.0000 - accuracy: 0.9992 - precision: 0.8667 - recall: 0.6014 - auc: 0.9280 - val_loss: 0.0036 - val_tp: 72.0000 - val_fp: 12.0000 - val_tn: 45466.0000 - val_fn: 19.0000 - val_accuracy: 0.9993 - val_precision: 0.8571 - val_recall: 0.7912 - val_auc: 0.9338\n",
      "Epoch 31/100\n",
      "182276/182276 [==============================] - 1s 7us/sample - loss: 0.0032 - tp: 181.0000 - fp: 21.0000 - tn: 181974.0000 - fn: 100.0000 - accuracy: 0.9993 - precision: 0.8960 - recall: 0.6441 - auc: 0.9263 - val_loss: 0.0036 - val_tp: 72.0000 - val_fp: 12.0000 - val_tn: 45466.0000 - val_fn: 19.0000 - val_accuracy: 0.9993 - val_precision: 0.8571 - val_recall: 0.7912 - val_auc: 0.9337\n",
      "Epoch 32/100\n",
      "182276/182276 [==============================] - 2s 8us/sample - loss: 0.0034 - tp: 180.0000 - fp: 27.0000 - tn: 181968.0000 - fn: 101.0000 - accuracy: 0.9993 - precision: 0.8696 - recall: 0.6406 - auc: 0.9299 - val_loss: 0.0036 - val_tp: 71.0000 - val_fp: 10.0000 - val_tn: 45468.0000 - val_fn: 20.0000 - val_accuracy: 0.9993 - val_precision: 0.8765 - val_recall: 0.7802 - val_auc: 0.9337\n",
      "Epoch 33/100\n",
      "182276/182276 [==============================] - 1s 8us/sample - loss: 0.0033 - tp: 177.0000 - fp: 26.0000 - tn: 181969.0000 - fn: 104.0000 - accuracy: 0.9993 - precision: 0.8719 - recall: 0.6299 - auc: 0.9333 - val_loss: 0.0036 - val_tp: 72.0000 - val_fp: 13.0000 - val_tn: 45465.0000 - val_fn: 19.0000 - val_accuracy: 0.9993 - val_precision: 0.8471 - val_recall: 0.7912 - val_auc: 0.9337\n",
      "Epoch 34/100\n",
      "182276/182276 [==============================] - 2s 9us/sample - loss: 0.0037 - tp: 169.0000 - fp: 23.0000 - tn: 181972.0000 - fn: 112.0000 - accuracy: 0.9993 - precision: 0.8802 - recall: 0.6014 - auc: 0.9262 - val_loss: 0.0036 - val_tp: 71.0000 - val_fp: 10.0000 - val_tn: 45468.0000 - val_fn: 20.0000 - val_accuracy: 0.9993 - val_precision: 0.8765 - val_recall: 0.7802 - val_auc: 0.9337\n",
      "Epoch 35/100\n",
      "182276/182276 [==============================] - 1s 7us/sample - loss: 0.0038 - tp: 160.0000 - fp: 26.0000 - tn: 181969.0000 - fn: 121.0000 - accuracy: 0.9992 - precision: 0.8602 - recall: 0.5694 - auc: 0.9314 - val_loss: 0.0036 - val_tp: 71.0000 - val_fp: 11.0000 - val_tn: 45467.0000 - val_fn: 20.0000 - val_accuracy: 0.9993 - val_precision: 0.8659 - val_recall: 0.7802 - val_auc: 0.9337\n",
      "Epoch 36/100\n",
      "182276/182276 [==============================] - 1s 6us/sample - loss: 0.0037 - tp: 167.0000 - fp: 25.0000 - tn: 181970.0000 - fn: 114.0000 - accuracy: 0.9992 - precision: 0.8698 - recall: 0.5943 - auc: 0.9227 - val_loss: 0.0035 - val_tp: 66.0000 - val_fp: 10.0000 - val_tn: 45468.0000 - val_fn: 25.0000 - val_accuracy: 0.9992 - val_precision: 0.8684 - val_recall: 0.7253 - val_auc: 0.9337\n",
      "Epoch 37/100\n",
      "182276/182276 [==============================] - 2s 9us/sample - loss: 0.0034 - tp: 173.0000 - fp: 23.0000 - tn: 181972.0000 - fn: 108.0000 - accuracy: 0.9993 - precision: 0.8827 - recall: 0.6157 - auc: 0.9245 - val_loss: 0.0035 - val_tp: 67.0000 - val_fp: 10.0000 - val_tn: 45468.0000 - val_fn: 24.0000 - val_accuracy: 0.9993 - val_precision: 0.8701 - val_recall: 0.7363 - val_auc: 0.9337\n",
      "Epoch 38/100\n",
      "182276/182276 [==============================] - 1s 7us/sample - loss: 0.0034 - tp: 181.0000 - fp: 29.0000 - tn: 181966.0000 - fn: 100.0000 - accuracy: 0.9993 - precision: 0.8619 - recall: 0.6441 - auc: 0.9405 - val_loss: 0.0036 - val_tp: 67.0000 - val_fp: 10.0000 - val_tn: 45468.0000 - val_fn: 24.0000 - val_accuracy: 0.9993 - val_precision: 0.8701 - val_recall: 0.7363 - val_auc: 0.9337\n",
      "Epoch 39/100\n",
      "182276/182276 [==============================] - 1s 8us/sample - loss: 0.0034 - tp: 171.0000 - fp: 25.0000 - tn: 181970.0000 - fn: 110.0000 - accuracy: 0.9993 - precision: 0.8724 - recall: 0.6085 - auc: 0.9298 - val_loss: 0.0035 - val_tp: 67.0000 - val_fp: 10.0000 - val_tn: 45468.0000 - val_fn: 24.0000 - val_accuracy: 0.9993 - val_precision: 0.8701 - val_recall: 0.7363 - val_auc: 0.9337\n",
      "Epoch 40/100\n",
      "176128/182276 [===========================>..] - ETA: 0s - loss: 0.0037 - tp: 171.0000 - fp: 26.0000 - tn: 175827.0000 - fn: 104.0000 - accuracy: 0.9993 - precision: 0.8680 - recall: 0.6218 - auc: 0.9319Restoring model weights from the end of the best epoch.\n",
      "182276/182276 [==============================] - 2s 10us/sample - loss: 0.0036 - tp: 176.0000 - fp: 27.0000 - tn: 181968.0000 - fn: 105.0000 - accuracy: 0.9993 - precision: 0.8670 - recall: 0.6263 - auc: 0.9334 - val_loss: 0.0035 - val_tp: 71.0000 - val_fp: 10.0000 - val_tn: 45468.0000 - val_fn: 20.0000 - val_accuracy: 0.9993 - val_precision: 0.8765 - val_recall: 0.7802 - val_auc: 0.9337\n"
     ]
    },
    {
     "name": "stdout",
     "output_type": "stream",
     "text": [
      "Epoch 00040: early stopping\n"
     ]
    }
   ],
   "source": [
    "model = make_model()\n",
    "model.load_weights(initial_weights)\n",
    "baseline_history = model.fit(\n",
    "    train_features,\n",
    "    train_labels,\n",
    "    batch_size=BATCH_SIZE,\n",
    "    epochs=EPOCHS,\n",
    "    callbacks = [early_stopping],\n",
    "    validation_data=(val_features, val_labels))"
   ]
  },
  {
   "cell_type": "markdown",
   "metadata": {
    "colab_type": "text",
    "id": "iSaDBYU9xtP6"
   },
   "source": [
    "### Check training history\n",
    "In this section, you will produce plots of your model's accuracy and loss on the training and validation set. These are useful to check for overfitting, which you can learn more about in this [tutorial](https://www.tensorflow.org/tutorials/keras/overfit_and_underfit).\n",
    "\n",
    "Additionally, you can produce these plots for any of the metrics you created above. False negatives are included as an example."
   ]
  },
  {
   "cell_type": "code",
   "execution_count": 25,
   "metadata": {
    "colab": {},
    "colab_type": "code",
    "id": "WTSkhT1jyGu6"
   },
   "outputs": [],
   "source": [
    "def plot_metrics(history):\n",
    "  metrics =  ['loss', 'auc', 'precision', 'recall']\n",
    "  for n, metric in enumerate(metrics):\n",
    "    name = metric.replace(\"_\",\" \").capitalize()\n",
    "    plt.subplot(2,2,n+1)\n",
    "    plt.plot(history.epoch,  history.history[metric], color=colors[0], label='Train')\n",
    "    plt.plot(history.epoch, history.history['val_'+metric],\n",
    "             color=colors[0], linestyle=\"--\", label='Val')\n",
    "    plt.xlabel('Epoch')\n",
    "    plt.ylabel(name)\n",
    "    if metric == 'loss':\n",
    "      plt.ylim([0, plt.ylim()[1]])\n",
    "    elif metric == 'auc':\n",
    "      plt.ylim([0.8,1])\n",
    "    else:\n",
    "      plt.ylim([0,1])\n",
    "\n",
    "    plt.legend()\n"
   ]
  },
  {
   "cell_type": "code",
   "execution_count": 26,
   "metadata": {
    "colab": {},
    "colab_type": "code",
    "id": "u6LReDsqlZlk"
   },
   "outputs": [
    {
     "data": {
      "image/png": "[encoded data removed]",
      "text/plain": [
       "<Figure size 864x720 with 4 Axes>"
      ]
     },
     "metadata": {
      "needs_background": "light"
     },
     "output_type": "display_data"
    }
   ],
   "source": [
    "plot_metrics(baseline_history)"
   ]
  },
  {
   "cell_type": "markdown",
   "metadata": {
    "colab_type": "text",
    "id": "UCa4iWo6WDKR"
   },
   "source": [
    "Note: That the validation curve generally performs better than the training curve. This is mainly caused by the fact that the dropout layer is not active when evaluating the model."
   ]
  },
  {
   "cell_type": "markdown",
   "metadata": {
    "colab_type": "text",
    "id": "aJC1booryouo"
   },
   "source": [
    "### Evaluate metrics\n",
    "\n",
    "You can use a [confusion matrix](https://developers.google.com/machine-learning/glossary/#confusion_matrix) to summarize the actual vs. predicted labels where the X axis is the predicted label and the Y axis is the actual label."
   ]
  },
  {
   "cell_type": "code",
   "execution_count": 27,
   "metadata": {
    "colab": {},
    "colab_type": "code",
    "id": "aNS796IJKrev"
   },
   "outputs": [],
   "source": [
    "train_predictions_baseline = model.predict(train_features, batch_size=BATCH_SIZE)\n",
    "test_predictions_baseline = model.predict(test_features, batch_size=BATCH_SIZE)"
   ]
  },
  {
   "cell_type": "code",
   "execution_count": 28,
   "metadata": {
    "colab": {},
    "colab_type": "code",
    "id": "MVWBGfADwbWI"
   },
   "outputs": [],
   "source": [
    "def plot_cm(labels, predictions, p=0.5):\n",
    "  cm = confusion_matrix(labels, predictions > p)\n",
    "  plt.figure(figsize=(5,5))\n",
    "  sns.heatmap(cm, annot=True, fmt=\"d\")\n",
    "  plt.title('Confusion matrix @{:.2f}'.format(p))\n",
    "  plt.ylabel('Actual label')\n",
    "  plt.xlabel('Predicted label')\n",
    "\n",
    "  print('Legitimate Transactions Detected (True Negatives): ', cm[0][0])\n",
    "  print('Legitimate Transactions Incorrectly Detected (False Positives): ', cm[0][1])\n",
    "  print('Fraudulent Transactions Missed (False Negatives): ', cm[1][0])\n",
    "  print('Fraudulent Transactions Detected (True Positives): ', cm[1][1])\n",
    "  print('Total Fraudulent Transactions: ', np.sum(cm[1]))"
   ]
  },
  {
   "cell_type": "markdown",
   "metadata": {
    "colab_type": "text",
    "id": "nOTjD5Z5Wp1U"
   },
   "source": [
    "Evaluate your model on the test dataset and display the results for the metrics you created above."
   ]
  },
  {
   "cell_type": "code",
   "execution_count": 29,
   "metadata": {
    "colab": {},
    "colab_type": "code",
    "id": "poh_hZngt2_9"
   },
   "outputs": [
    {
     "name": "stdout",
     "output_type": "stream",
     "text": [
      "loss :  0.0033105427347546626\n",
      "tp :  100.0\n",
      "fp :  15.0\n",
      "tn :  56827.0\n",
      "fn :  20.0\n",
      "accuracy :  0.99938554\n",
      "precision :  0.8695652\n",
      "recall :  0.8333333\n",
      "auc :  0.94139624\n",
      "\n",
      "Legitimate Transactions Detected (True Negatives):  56827\n",
      "Legitimate Transactions Incorrectly Detected (False Positives):  15\n",
      "Fraudulent Transactions Missed (False Negatives):  20\n",
      "Fraudulent Transactions Detected (True Positives):  100\n",
      "Total Fraudulent Transactions:  120\n"
     ]
    },
    {
     "data": {
      "image/png": "[encoded data removed]",
      "text/plain": [
       "<Figure size 360x360 with 2 Axes>"
      ]
     },
     "metadata": {
      "needs_background": "light"
     },
     "output_type": "display_data"
    }
   ],
   "source": [
    "baseline_results = model.evaluate(test_features, test_labels,\n",
    "                                  batch_size=BATCH_SIZE, verbose=0)\n",
    "for name, value in zip(model.metrics_names, baseline_results):\n",
    "  print(name, ': ', value)\n",
    "print()\n",
    "\n",
    "plot_cm(test_labels, test_predictions_baseline)"
   ]
  },
  {
   "cell_type": "markdown",
   "metadata": {
    "colab_type": "text",
    "id": "PyZtSr1v6L4t"
   },
   "source": [
    "If the model had predicted everything perfectly, this would be a [diagonal matrix](https://en.wikipedia.org/wiki/Diagonal_matrix) where values off the main diagonal, indicating incorrect predictions, would be zero. In this case the matrix shows that you have relatively few false positives, meaning that there were relatively few legitimate transactions that were incorrectly flagged. However, you would likely want to have even fewer false negatives despite the cost of increasing the number of false positives. This trade off may be preferable because false negatives would allow fraudulent transactions to go through, whereas false positives may cause an email to be sent to a customer to ask them to verify their card activity."
   ]
  },
  {
   "cell_type": "markdown",
   "metadata": {
    "colab_type": "text",
    "id": "P-QpQsip_F2Q"
   },
   "source": [
    "### Plot the ROC\n",
    "\n",
    "Now plot the [ROC](https://developers.google.com/machine-learning/glossary#ROC). This plot is useful because it shows, at a glance, the range of performance the model can reach just by tuning the output threshold."
   ]
  },
  {
   "cell_type": "code",
   "execution_count": 30,
   "metadata": {
    "colab": {},
    "colab_type": "code",
    "id": "lhaxsLSvANF9"
   },
   "outputs": [],
   "source": [
    "def plot_roc(name, labels, predictions, **kwargs):\n",
    "  fp, tp, _ = sklearn.metrics.roc_curve(labels, predictions)\n",
    "\n",
    "  plt.plot(100*fp, 100*tp, label=name, linewidth=2, **kwargs)\n",
    "  plt.xlabel('False positives [%]')\n",
    "  plt.ylabel('True positives [%]')\n",
    "  plt.xlim([-0.5,20])\n",
    "  plt.ylim([80,100.5])\n",
    "  plt.grid(True)\n",
    "  ax = plt.gca()\n",
    "  ax.set_aspect('equal')"
   ]
  },
  {
   "cell_type": "code",
   "execution_count": 31,
   "metadata": {
    "colab": {},
    "colab_type": "code",
    "id": "DfHHspttKJE0"
   },
   "outputs": [
    {
     "data": {
      "text/plain": [
       "<matplotlib.legend.Legend at 0x1e7043d2f60>"
      ]
     },
     "execution_count": 31,
     "metadata": {},
     "output_type": "execute_result"
    },
    {
     "data": {
      "image/png": "[encoded data removed]",
      "text/plain": [
       "<Figure size 864x720 with 1 Axes>"
      ]
     },
     "metadata": {
      "needs_background": "light"
     },
     "output_type": "display_data"
    }
   ],
   "source": [
    "plot_roc(\"Train Baseline\", train_labels, train_predictions_baseline, color=colors[0])\n",
    "plot_roc(\"Test Baseline\", test_labels, test_predictions_baseline, color=colors[0], linestyle='--')\n",
    "plt.legend(loc='lower right')"
   ]
  },
  {
   "cell_type": "markdown",
   "metadata": {
    "colab_type": "text",
    "id": "gpdsFyp64DhY"
   },
   "source": [
    "It looks like the precision is relatively high, but the recall and the area under the ROC curve (AUC) aren't as high as you might like. Classifiers often face challenges when trying to maximize both precision and recall, which is especially true when working with imbalanced datasets. It is important to consider the costs of different types of errors in the context of the problem you care about. In this example, a false negative (a fraudulent transaction is missed) may have a financial cost, while a false positive (a transaction is incorrectly flagged as fraudulent) may decrease user happiness."
   ]
  },
  {
   "cell_type": "markdown",
   "metadata": {
    "colab_type": "text",
    "id": "cveQoiMyGQCo"
   },
   "source": [
    "## Class weights"
   ]
  },
  {
   "cell_type": "markdown",
   "metadata": {
    "colab_type": "text",
    "id": "ePGp6GUE1WfH"
   },
   "source": [
    "### Calculate class weights\n",
    "\n",
    "The goal is to identify fraudulent transactions, but you don't have very many of those positive samples to work with, so you would want to have the classifier heavily weight the few examples that are available. You can do this by passing Keras weights for each class through a parameter. These will cause the model to \"pay more attention\" to examples from an under-represented class."
   ]
  },
  {
   "cell_type": "code",
   "execution_count": 32,
   "metadata": {
    "colab": {},
    "colab_type": "code",
    "id": "qjGWErngGny7"
   },
   "outputs": [
    {
     "name": "stdout",
     "output_type": "stream",
     "text": [
      "Weight for class 0: 0.50\n",
      "Weight for class 1: 289.44\n"
     ]
    }
   ],
   "source": [
    "# Scaling by total/2 helps keep the loss to a similar magnitude.\n",
    "# The sum of the weights of all examples stays the same.\n",
    "weight_for_0 = (1 / neg)*(total)/2.0 \n",
    "weight_for_1 = (1 / pos)*(total)/2.0\n",
    "\n",
    "class_weight = {0: weight_for_0, 1: weight_for_1}\n",
    "\n",
    "print('Weight for class 0: {:.2f}'.format(weight_for_0))\n",
    "print('Weight for class 1: {:.2f}'.format(weight_for_1))"
   ]
  },
  {
   "cell_type": "markdown",
   "metadata": {
    "colab_type": "text",
    "id": "Mk1OOE2ZSHzy"
   },
   "source": [
    "### Train a model with class weights\n",
    "\n",
    "Now try re-training and evaluating the model with class weights to see how that affects the predictions.\n",
    "\n",
    "Note: Using `class_weights` changes the range of the loss. This may affect the stability of the training depending on the optimizer. Optimizers whose step size is dependent on the magnitude of the gradient, like `optimizers.SGD`, may fail. The optimizer used here, `optimizers.Adam`, is unaffected by the scaling change. Also note that because of the weighting, the total losses are not comparable between the two models."
   ]
  },
  {
   "cell_type": "code",
   "execution_count": 33,
   "metadata": {
    "colab": {},
    "colab_type": "code",
    "id": "UJ589fn8ST3x"
   },
   "outputs": [
    {
     "name": "stdout",
     "output_type": "stream",
     "text": [
      "Train on 182276 samples, validate on 45569 samples\n",
      "Epoch 1/100\n",
      "182276/182276 [==============================] - 3s 14us/sample - loss: 1.6559 - tp: 56.0000 - fp: 248.0000 - tn: 181747.0000 - fn: 225.0000 - accuracy: 0.9974 - precision: 0.1842 - recall: 0.1993 - auc: 0.8148 - val_loss: 0.0077 - val_tp: 47.0000 - val_fp: 10.0000 - val_tn: 45468.0000 - val_fn: 44.0000 - val_accuracy: 0.9988 - val_precision: 0.8246 - val_recall: 0.5165 - val_auc: 0.9206\n",
      "Epoch 2/100\n",
      "182276/182276 [==============================] - 2s 9us/sample - loss: 0.8231 - tp: 154.0000 - fp: 521.0000 - tn: 181474.0000 - fn: 127.0000 - accuracy: 0.9964 - precision: 0.2281 - recall: 0.5480 - auc: 0.9071 - val_loss: 0.0101 - val_tp: 71.0000 - val_fp: 34.0000 - val_tn: 45444.0000 - val_fn: 20.0000 - val_accuracy: 0.9988 - val_precision: 0.6762 - val_recall: 0.7802 - val_auc: 0.9298\n",
      "Epoch 3/100\n",
      "182276/182276 [==============================] - 2s 9us/sample - loss: 0.6309 - tp: 183.0000 - fp: 932.0000 - tn: 181063.0000 - fn: 98.0000 - accuracy: 0.9943 - precision: 0.1641 - recall: 0.6512 - auc: 0.9120 - val_loss: 0.0136 - val_tp: 74.0000 - val_fp: 69.0000 - val_tn: 45409.0000 - val_fn: 17.0000 - val_accuracy: 0.9981 - val_precision: 0.5175 - val_recall: 0.8132 - val_auc: 0.9390\n",
      "Epoch 4/100\n",
      "182276/182276 [==============================] - 1s 8us/sample - loss: 0.5395 - tp: 197.0000 - fp: 1478.0000 - tn: 180517.0000 - fn: 84.0000 - accuracy: 0.9914 - precision: 0.1176 - recall: 0.7011 - auc: 0.9183 - val_loss: 0.0179 - val_tp: 75.0000 - val_fp: 104.0000 - val_tn: 45374.0000 - val_fn: 16.0000 - val_accuracy: 0.9974 - val_precision: 0.4190 - val_recall: 0.8242 - val_auc: 0.9359\n",
      "Epoch 5/100\n",
      "182276/182276 [==============================] - 2s 8us/sample - loss: 0.3690 - tp: 222.0000 - fp: 1988.0000 - tn: 180007.0000 - fn: 59.0000 - accuracy: 0.9888 - precision: 0.1005 - recall: 0.7900 - auc: 0.9487 - val_loss: 0.0231 - val_tp: 77.0000 - val_fp: 179.0000 - val_tn: 45299.0000 - val_fn: 14.0000 - val_accuracy: 0.9958 - val_precision: 0.3008 - val_recall: 0.8462 - val_auc: 0.9403\n",
      "Epoch 6/100\n",
      "182276/182276 [==============================] - 2s 10us/sample - loss: 0.3867 - tp: 223.0000 - fp: 2693.0000 - tn: 179302.0000 - fn: 58.0000 - accuracy: 0.9849 - precision: 0.0765 - recall: 0.7936 - auc: 0.9403 - val_loss: 0.0285 - val_tp: 77.0000 - val_fp: 267.0000 - val_tn: 45211.0000 - val_fn: 14.0000 - val_accuracy: 0.9938 - val_precision: 0.2238 - val_recall: 0.8462 - val_auc: 0.9424\n",
      "Epoch 7/100\n",
      "182276/182276 [==============================] - 2s 9us/sample - loss: 0.3543 - tp: 224.0000 - fp: 3218.0000 - tn: 178777.0000 - fn: 57.0000 - accuracy: 0.9820 - precision: 0.0651 - recall: 0.7972 - auc: 0.9448 - val_loss: 0.0352 - val_tp: 77.0000 - val_fp: 354.0000 - val_tn: 45124.0000 - val_fn: 14.0000 - val_accuracy: 0.9919 - val_precision: 0.1787 - val_recall: 0.8462 - val_auc: 0.9407\n",
      "Epoch 8/100\n",
      "182276/182276 [==============================] - 2s 10us/sample - loss: 0.3472 - tp: 232.0000 - fp: 3795.0000 - tn: 178200.0000 - fn: 49.0000 - accuracy: 0.9789 - precision: 0.0576 - recall: 0.8256 - auc: 0.9407 - val_loss: 0.0421 - val_tp: 79.0000 - val_fp: 440.0000 - val_tn: 45038.0000 - val_fn: 12.0000 - val_accuracy: 0.9901 - val_precision: 0.1522 - val_recall: 0.8681 - val_auc: 0.9449\n",
      "Epoch 9/100\n",
      "182276/182276 [==============================] - 2s 8us/sample - loss: 0.4151 - tp: 223.0000 - fp: 4339.0000 - tn: 177656.0000 - fn: 58.0000 - accuracy: 0.9759 - precision: 0.0489 - recall: 0.7936 - auc: 0.9244 - val_loss: 0.0486 - val_tp: 79.0000 - val_fp: 550.0000 - val_tn: 44928.0000 - val_fn: 12.0000 - val_accuracy: 0.9877 - val_precision: 0.1256 - val_recall: 0.8681 - val_auc: 0.9456\n",
      "Epoch 10/100\n",
      "182276/182276 [==============================] - 1s 8us/sample - loss: 0.3424 - tp: 237.0000 - fp: 4660.0000 - tn: 177335.0000 - fn: 44.0000 - accuracy: 0.9742 - precision: 0.0484 - recall: 0.8434 - auc: 0.9352 - val_loss: 0.0514 - val_tp: 79.0000 - val_fp: 599.0000 - val_tn: 44879.0000 - val_fn: 12.0000 - val_accuracy: 0.9866 - val_precision: 0.1165 - val_recall: 0.8681 - val_auc: 0.9512\n",
      "Epoch 11/100\n",
      "182276/182276 [==============================] - 1s 7us/sample - loss: 0.2993 - tp: 236.0000 - fp: 4943.0000 - tn: 177052.0000 - fn: 45.0000 - accuracy: 0.9726 - precision: 0.0456 - recall: 0.8399 - auc: 0.9525 - val_loss: 0.0555 - val_tp: 79.0000 - val_fp: 653.0000 - val_tn: 44825.0000 - val_fn: 12.0000 - val_accuracy: 0.9854 - val_precision: 0.1079 - val_recall: 0.8681 - val_auc: 0.9541\n",
      "Epoch 12/100\n",
      "182276/182276 [==============================] - 1s 8us/sample - loss: 0.2731 - tp: 240.0000 - fp: 5374.0000 - tn: 176621.0000 - fn: 41.0000 - accuracy: 0.9703 - precision: 0.0428 - recall: 0.8541 - auc: 0.9527 - val_loss: 0.0594 - val_tp: 79.0000 - val_fp: 689.0000 - val_tn: 44789.0000 - val_fn: 12.0000 - val_accuracy: 0.9846 - val_precision: 0.1029 - val_recall: 0.8681 - val_auc: 0.9547\n",
      "Epoch 13/100\n",
      "182276/182276 [==============================] - 1s 8us/sample - loss: 0.3062 - tp: 242.0000 - fp: 5316.0000 - tn: 176679.0000 - fn: 39.0000 - accuracy: 0.9706 - precision: 0.0435 - recall: 0.8612 - auc: 0.9387 - val_loss: 0.0605 - val_tp: 79.0000 - val_fp: 691.0000 - val_tn: 44787.0000 - val_fn: 12.0000 - val_accuracy: 0.9846 - val_precision: 0.1026 - val_recall: 0.8681 - val_auc: 0.9545\n",
      "Epoch 14/100\n",
      "182276/182276 [==============================] - 1s 8us/sample - loss: 0.2754 - tp: 241.0000 - fp: 5552.0000 - tn: 176443.0000 - fn: 40.0000 - accuracy: 0.9693 - precision: 0.0416 - recall: 0.8577 - auc: 0.9532 - val_loss: 0.0641 - val_tp: 80.0000 - val_fp: 718.0000 - val_tn: 44760.0000 - val_fn: 11.0000 - val_accuracy: 0.9840 - val_precision: 0.1003 - val_recall: 0.8791 - val_auc: 0.9578\n",
      "Epoch 15/100\n",
      "182276/182276 [==============================] - 1s 8us/sample - loss: 0.2989 - tp: 239.0000 - fp: 5740.0000 - tn: 176255.0000 - fn: 42.0000 - accuracy: 0.9683 - precision: 0.0400 - recall: 0.8505 - auc: 0.9458 - val_loss: 0.0653 - val_tp: 80.0000 - val_fp: 730.0000 - val_tn: 44748.0000 - val_fn: 11.0000 - val_accuracy: 0.9837 - val_precision: 0.0988 - val_recall: 0.8791 - val_auc: 0.9594\n",
      "Epoch 16/100\n",
      "182276/182276 [==============================] - 2s 9us/sample - loss: 0.2452 - tp: 239.0000 - fp: 5843.0000 - tn: 176152.0000 - fn: 42.0000 - accuracy: 0.9677 - precision: 0.0393 - recall: 0.8505 - auc: 0.9597 - val_loss: 0.0710 - val_tp: 80.0000 - val_fp: 794.0000 - val_tn: 44684.0000 - val_fn: 11.0000 - val_accuracy: 0.9823 - val_precision: 0.0915 - val_recall: 0.8791 - val_auc: 0.9628\n",
      "Epoch 17/100\n",
      "182276/182276 [==============================] - 2s 9us/sample - loss: 0.2908 - tp: 242.0000 - fp: 6128.0000 - tn: 175867.0000 - fn: 39.0000 - accuracy: 0.9662 - precision: 0.0380 - recall: 0.8612 - auc: 0.9409 - val_loss: 0.0704 - val_tp: 80.0000 - val_fp: 777.0000 - val_tn: 44701.0000 - val_fn: 11.0000 - val_accuracy: 0.9827 - val_precision: 0.0933 - val_recall: 0.8791 - val_auc: 0.9642\n",
      "Epoch 18/100\n",
      "182276/182276 [==============================] - 2s 11us/sample - loss: 0.2715 - tp: 246.0000 - fp: 6044.0000 - tn: 175951.0000 - fn: 35.0000 - accuracy: 0.9666 - precision: 0.0391 - recall: 0.8754 - auc: 0.9478 - val_loss: 0.0724 - val_tp: 80.0000 - val_fp: 800.0000 - val_tn: 44678.0000 - val_fn: 11.0000 - val_accuracy: 0.9822 - val_precision: 0.0909 - val_recall: 0.8791 - val_auc: 0.9649\n",
      "Epoch 19/100\n",
      "182276/182276 [==============================] - 1s 8us/sample - loss: 0.2299 - tp: 246.0000 - fp: 6192.0000 - tn: 175803.0000 - fn: 35.0000 - accuracy: 0.9658 - precision: 0.0382 - recall: 0.8754 - auc: 0.9632 - val_loss: 0.0706 - val_tp: 80.0000 - val_fp: 777.0000 - val_tn: 44701.0000 - val_fn: 11.0000 - val_accuracy: 0.9827 - val_precision: 0.0933 - val_recall: 0.8791 - val_auc: 0.9651\n",
      "Epoch 20/100\n",
      "182276/182276 [==============================] - 2s 9us/sample - loss: 0.2379 - tp: 247.0000 - fp: 5911.0000 - tn: 176084.0000 - fn: 34.0000 - accuracy: 0.9674 - precision: 0.0401 - recall: 0.8790 - auc: 0.9616 - val_loss: 0.0700 - val_tp: 80.0000 - val_fp: 768.0000 - val_tn: 44710.0000 - val_fn: 11.0000 - val_accuracy: 0.9829 - val_precision: 0.0943 - val_recall: 0.8791 - val_auc: 0.9651\n",
      "Epoch 21/100\n"
     ]
    },
    {
     "name": "stdout",
     "output_type": "stream",
     "text": [
      "182276/182276 [==============================] - 2s 9us/sample - loss: 0.2465 - tp: 246.0000 - fp: 6058.0000 - tn: 175937.0000 - fn: 35.0000 - accuracy: 0.9666 - precision: 0.0390 - recall: 0.8754 - auc: 0.9560 - val_loss: 0.0736 - val_tp: 80.0000 - val_fp: 811.0000 - val_tn: 44667.0000 - val_fn: 11.0000 - val_accuracy: 0.9820 - val_precision: 0.0898 - val_recall: 0.8791 - val_auc: 0.9655\n",
      "Epoch 22/100\n",
      "182276/182276 [==============================] - 1s 8us/sample - loss: 0.2117 - tp: 248.0000 - fp: 6284.0000 - tn: 175711.0000 - fn: 33.0000 - accuracy: 0.9653 - precision: 0.0380 - recall: 0.8826 - auc: 0.9711 - val_loss: 0.0758 - val_tp: 80.0000 - val_fp: 830.0000 - val_tn: 44648.0000 - val_fn: 11.0000 - val_accuracy: 0.9815 - val_precision: 0.0879 - val_recall: 0.8791 - val_auc: 0.9659\n",
      "Epoch 23/100\n",
      "182276/182276 [==============================] - 1s 8us/sample - loss: 0.2198 - tp: 249.0000 - fp: 6013.0000 - tn: 175982.0000 - fn: 32.0000 - accuracy: 0.9668 - precision: 0.0398 - recall: 0.8861 - auc: 0.9649 - val_loss: 0.0719 - val_tp: 80.0000 - val_fp: 774.0000 - val_tn: 44704.0000 - val_fn: 11.0000 - val_accuracy: 0.9828 - val_precision: 0.0937 - val_recall: 0.8791 - val_auc: 0.9668\n",
      "Epoch 24/100\n",
      "182276/182276 [==============================] - 1s 7us/sample - loss: 0.2190 - tp: 247.0000 - fp: 5966.0000 - tn: 176029.0000 - fn: 34.0000 - accuracy: 0.9671 - precision: 0.0398 - recall: 0.8790 - auc: 0.9662 - val_loss: 0.0762 - val_tp: 80.0000 - val_fp: 820.0000 - val_tn: 44658.0000 - val_fn: 11.0000 - val_accuracy: 0.9818 - val_precision: 0.0889 - val_recall: 0.8791 - val_auc: 0.9667\n",
      "Epoch 25/100\n",
      "182276/182276 [==============================] - 2s 9us/sample - loss: 0.2022 - tp: 252.0000 - fp: 6042.0000 - tn: 175953.0000 - fn: 29.0000 - accuracy: 0.9667 - precision: 0.0400 - recall: 0.8968 - auc: 0.9713 - val_loss: 0.0729 - val_tp: 80.0000 - val_fp: 768.0000 - val_tn: 44710.0000 - val_fn: 11.0000 - val_accuracy: 0.9829 - val_precision: 0.0943 - val_recall: 0.8791 - val_auc: 0.9671\n",
      "Epoch 26/100\n",
      "182276/182276 [==============================] - 1s 8us/sample - loss: 0.2234 - tp: 248.0000 - fp: 6127.0000 - tn: 175868.0000 - fn: 33.0000 - accuracy: 0.9662 - precision: 0.0389 - recall: 0.8826 - auc: 0.9651 - val_loss: 0.0742 - val_tp: 80.0000 - val_fp: 774.0000 - val_tn: 44704.0000 - val_fn: 11.0000 - val_accuracy: 0.9828 - val_precision: 0.0937 - val_recall: 0.8791 - val_auc: 0.9672\n",
      "Epoch 27/100\n",
      "182276/182276 [==============================] - 2s 9us/sample - loss: 0.1997 - tp: 250.0000 - fp: 6013.0000 - tn: 175982.0000 - fn: 31.0000 - accuracy: 0.9668 - precision: 0.0399 - recall: 0.8897 - auc: 0.9719 - val_loss: 0.0726 - val_tp: 80.0000 - val_fp: 735.0000 - val_tn: 44743.0000 - val_fn: 11.0000 - val_accuracy: 0.9836 - val_precision: 0.0982 - val_recall: 0.8791 - val_auc: 0.9672\n",
      "Epoch 28/100\n",
      "182276/182276 [==============================] - 2s 11us/sample - loss: 0.2180 - tp: 244.0000 - fp: 6073.0000 - tn: 175922.0000 - fn: 37.0000 - accuracy: 0.9665 - precision: 0.0386 - recall: 0.8683 - auc: 0.9702 - val_loss: 0.0744 - val_tp: 80.0000 - val_fp: 756.0000 - val_tn: 44722.0000 - val_fn: 11.0000 - val_accuracy: 0.9832 - val_precision: 0.0957 - val_recall: 0.8791 - val_auc: 0.9670\n",
      "Epoch 29/100\n",
      "182276/182276 [==============================] - 1s 7us/sample - loss: 0.1980 - tp: 251.0000 - fp: 6133.0000 - tn: 175862.0000 - fn: 30.0000 - accuracy: 0.9662 - precision: 0.0393 - recall: 0.8932 - auc: 0.9714 - val_loss: 0.0743 - val_tp: 80.0000 - val_fp: 754.0000 - val_tn: 44724.0000 - val_fn: 11.0000 - val_accuracy: 0.9832 - val_precision: 0.0959 - val_recall: 0.8791 - val_auc: 0.9664\n",
      "Epoch 30/100\n",
      "182276/182276 [==============================] - 2s 8us/sample - loss: 0.2150 - tp: 248.0000 - fp: 5996.0000 - tn: 175999.0000 - fn: 33.0000 - accuracy: 0.9669 - precision: 0.0397 - recall: 0.8826 - auc: 0.9672 - val_loss: 0.0729 - val_tp: 80.0000 - val_fp: 738.0000 - val_tn: 44740.0000 - val_fn: 11.0000 - val_accuracy: 0.9836 - val_precision: 0.0978 - val_recall: 0.8791 - val_auc: 0.9676\n",
      "Epoch 31/100\n",
      "182276/182276 [==============================] - 2s 10us/sample - loss: 0.1963 - tp: 250.0000 - fp: 5776.0000 - tn: 176219.0000 - fn: 31.0000 - accuracy: 0.9681 - precision: 0.0415 - recall: 0.8897 - auc: 0.9718 - val_loss: 0.0704 - val_tp: 80.0000 - val_fp: 696.0000 - val_tn: 44782.0000 - val_fn: 11.0000 - val_accuracy: 0.9845 - val_precision: 0.1031 - val_recall: 0.8791 - val_auc: 0.9670\n",
      "Epoch 32/100\n",
      "182276/182276 [==============================] - 1s 7us/sample - loss: 0.2060 - tp: 247.0000 - fp: 5645.0000 - tn: 176350.0000 - fn: 34.0000 - accuracy: 0.9688 - precision: 0.0419 - recall: 0.8790 - auc: 0.9694 - val_loss: 0.0715 - val_tp: 80.0000 - val_fp: 712.0000 - val_tn: 44766.0000 - val_fn: 11.0000 - val_accuracy: 0.9841 - val_precision: 0.1010 - val_recall: 0.8791 - val_auc: 0.9647\n",
      "Epoch 33/100\n",
      "182276/182276 [==============================] - 2s 8us/sample - loss: 0.1833 - tp: 250.0000 - fp: 5693.0000 - tn: 176302.0000 - fn: 31.0000 - accuracy: 0.9686 - precision: 0.0421 - recall: 0.8897 - auc: 0.9774 - val_loss: 0.0722 - val_tp: 80.0000 - val_fp: 720.0000 - val_tn: 44758.0000 - val_fn: 11.0000 - val_accuracy: 0.9840 - val_precision: 0.1000 - val_recall: 0.8791 - val_auc: 0.9662\n",
      "Epoch 34/100\n",
      "182276/182276 [==============================] - 2s 9us/sample - loss: 0.2185 - tp: 246.0000 - fp: 5541.0000 - tn: 176454.0000 - fn: 35.0000 - accuracy: 0.9694 - precision: 0.0425 - recall: 0.8754 - auc: 0.9646 - val_loss: 0.0711 - val_tp: 80.0000 - val_fp: 713.0000 - val_tn: 44765.0000 - val_fn: 11.0000 - val_accuracy: 0.9841 - val_precision: 0.1009 - val_recall: 0.8791 - val_auc: 0.9639\n",
      "Epoch 35/100\n",
      "182276/182276 [==============================] - 1s 8us/sample - loss: 0.1955 - tp: 252.0000 - fp: 5432.0000 - tn: 176563.0000 - fn: 29.0000 - accuracy: 0.9700 - precision: 0.0443 - recall: 0.8968 - auc: 0.9698 - val_loss: 0.0691 - val_tp: 80.0000 - val_fp: 679.0000 - val_tn: 44799.0000 - val_fn: 11.0000 - val_accuracy: 0.9849 - val_precision: 0.1054 - val_recall: 0.8791 - val_auc: 0.9642\n",
      "Epoch 36/100\n",
      "182276/182276 [==============================] - 1s 7us/sample - loss: 0.1823 - tp: 252.0000 - fp: 5142.0000 - tn: 176853.0000 - fn: 29.0000 - accuracy: 0.9716 - precision: 0.0467 - recall: 0.8968 - auc: 0.9763 - val_loss: 0.0650 - val_tp: 80.0000 - val_fp: 628.0000 - val_tn: 44850.0000 - val_fn: 11.0000 - val_accuracy: 0.9860 - val_precision: 0.1130 - val_recall: 0.8791 - val_auc: 0.9632\n",
      "Epoch 37/100\n",
      "182276/182276 [==============================] - 2s 8us/sample - loss: 0.1857 - tp: 252.0000 - fp: 5057.0000 - tn: 176938.0000 - fn: 29.0000 - accuracy: 0.9721 - precision: 0.0475 - recall: 0.8968 - auc: 0.9752 - val_loss: 0.0664 - val_tp: 80.0000 - val_fp: 649.0000 - val_tn: 44829.0000 - val_fn: 11.0000 - val_accuracy: 0.9855 - val_precision: 0.1097 - val_recall: 0.8791 - val_auc: 0.9646\n",
      "Epoch 38/100\n",
      "182276/182276 [==============================] - 2s 9us/sample - loss: 0.1980 - tp: 248.0000 - fp: 5247.0000 - tn: 176748.0000 - fn: 33.0000 - accuracy: 0.9710 - precision: 0.0451 - recall: 0.8826 - auc: 0.9731 - val_loss: 0.0676 - val_tp: 80.0000 - val_fp: 657.0000 - val_tn: 44821.0000 - val_fn: 11.0000 - val_accuracy: 0.9853 - val_precision: 0.1085 - val_recall: 0.8791 - val_auc: 0.9644\n",
      "Epoch 39/100\n",
      "182276/182276 [==============================] - 1s 8us/sample - loss: 0.1754 - tp: 251.0000 - fp: 5344.0000 - tn: 176651.0000 - fn: 30.0000 - accuracy: 0.9705 - precision: 0.0449 - recall: 0.8932 - auc: 0.9784 - val_loss: 0.0691 - val_tp: 80.0000 - val_fp: 672.0000 - val_tn: 44806.0000 - val_fn: 11.0000 - val_accuracy: 0.9850 - val_precision: 0.1064 - val_recall: 0.8791 - val_auc: 0.9674\n",
      "Epoch 40/100\n",
      "174080/182276 [===========================>..] - ETA: 0s - loss: 0.2273 - tp: 232.0000 - fp: 5348.0000 - tn: 168465.0000 - fn: 35.0000 - accuracy: 0.9691 - precision: 0.0416 - recall: 0.8689 - auc: 0.9626Restoring model weights from the end of the best epoch.\n",
      "182276/182276 [==============================] - 2s 9us/sample - loss: 0.2251 - tp: 245.0000 - fp: 5613.0000 - tn: 176382.0000 - fn: 36.0000 - accuracy: 0.9690 - precision: 0.0418 - recall: 0.8719 - auc: 0.9637 - val_loss: 0.0716 - val_tp: 80.0000 - val_fp: 698.0000 - val_tn: 44780.0000 - val_fn: 11.0000 - val_accuracy: 0.9844 - val_precision: 0.1028 - val_recall: 0.8791 - val_auc: 0.9674\n"
     ]
    },
    {
     "name": "stdout",
     "output_type": "stream",
     "text": [
      "Epoch 00040: early stopping\n"
     ]
    }
   ],
   "source": [
    "weighted_model = make_model()\n",
    "weighted_model.load_weights(initial_weights)\n",
    "\n",
    "weighted_history = weighted_model.fit(\n",
    "    train_features,\n",
    "    train_labels,\n",
    "    batch_size=BATCH_SIZE,\n",
    "    epochs=EPOCHS,\n",
    "    callbacks = [early_stopping],\n",
    "    validation_data=(val_features, val_labels),\n",
    "    # The class weights go here\n",
    "    class_weight=class_weight) "
   ]
  },
  {
   "cell_type": "markdown",
   "metadata": {
    "colab_type": "text",
    "id": "R0ynYRO0G3Lx"
   },
   "source": [
    "### Check training history"
   ]
  },
  {
   "cell_type": "code",
   "execution_count": 34,
   "metadata": {
    "colab": {},
    "colab_type": "code",
    "id": "BBe9FMO5ucTC"
   },
   "outputs": [
    {
     "data": {
      "image/png": "[encoded data removed]",
      "text/plain": [
       "<Figure size 864x720 with 4 Axes>"
      ]
     },
     "metadata": {
      "needs_background": "light"
     },
     "output_type": "display_data"
    }
   ],
   "source": [
    "plot_metrics(weighted_history)"
   ]
  },
  {
   "cell_type": "markdown",
   "metadata": {
    "colab_type": "text",
    "id": "REy6WClTZIwQ"
   },
   "source": [
    "### Evaluate metrics"
   ]
  },
  {
   "cell_type": "code",
   "execution_count": 35,
   "metadata": {
    "colab": {},
    "colab_type": "code",
    "id": "nifqscPGw-5w"
   },
   "outputs": [],
   "source": [
    "train_predictions_weighted = weighted_model.predict(train_features, batch_size=BATCH_SIZE)\n",
    "test_predictions_weighted = weighted_model.predict(test_features, batch_size=BATCH_SIZE)"
   ]
  },
  {
   "cell_type": "code",
   "execution_count": 36,
   "metadata": {
    "colab": {},
    "colab_type": "code",
    "id": "owKL2vdMBJr6"
   },
   "outputs": [
    {
     "name": "stdout",
     "output_type": "stream",
     "text": [
      "loss :  0.07483354190815149\n",
      "tp :  109.0\n",
      "fp :  989.0\n",
      "tn :  55853.0\n",
      "fn :  11.0\n",
      "accuracy :  0.98244447\n",
      "precision :  0.0992714\n",
      "recall :  0.90833336\n",
      "auc :  0.9849262\n",
      "\n",
      "Legitimate Transactions Detected (True Negatives):  55853\n",
      "Legitimate Transactions Incorrectly Detected (False Positives):  989\n",
      "Fraudulent Transactions Missed (False Negatives):  11\n",
      "Fraudulent Transactions Detected (True Positives):  109\n",
      "Total Fraudulent Transactions:  120\n"
     ]
    },
    {
     "data": {
      "image/png": "[encoded data removed]",
      "text/plain": [
       "<Figure size 360x360 with 2 Axes>"
      ]
     },
     "metadata": {
      "needs_background": "light"
     },
     "output_type": "display_data"
    }
   ],
   "source": [
    "weighted_results = weighted_model.evaluate(test_features, test_labels,\n",
    "                                           batch_size=BATCH_SIZE, verbose=0)\n",
    "for name, value in zip(weighted_model.metrics_names, weighted_results):\n",
    "  print(name, ': ', value)\n",
    "print()\n",
    "\n",
    "plot_cm(test_labels, test_predictions_weighted)"
   ]
  },
  {
   "cell_type": "markdown",
   "metadata": {
    "colab_type": "text",
    "id": "PTh1rtDn8r4-"
   },
   "source": [
    "Here you can see that with class weights the accuracy and precision are lower because there are more false positives, but conversely the recall and AUC are higher because the model also found more true positives. Despite having lower accuracy, this model has higher recall (and identifies more fraudulent transactions). Of course, there is a cost to both types of error (you wouldn't want to bug users by flagging too many legitimate transactions as fraudulent, either). Carefully consider the trade-offs between these different types of errors for your application."
   ]
  },
  {
   "cell_type": "markdown",
   "metadata": {
    "colab_type": "text",
    "id": "hXDAwyr0HYdX"
   },
   "source": [
    "### Plot the ROC"
   ]
  },
  {
   "cell_type": "code",
   "execution_count": 37,
   "metadata": {
    "colab": {},
    "colab_type": "code",
    "id": "3hzScIVZS1Xm"
   },
   "outputs": [
    {
     "data": {
      "text/plain": [
       "<matplotlib.legend.Legend at 0x1e708042c88>"
      ]
     },
     "execution_count": 37,
     "metadata": {},
     "output_type": "execute_result"
    },
    {
     "data": {
      "image/png": "[encoded data removed]",
      "text/plain": [
       "<Figure size 864x720 with 1 Axes>"
      ]
     },
     "metadata": {
      "needs_background": "light"
     },
     "output_type": "display_data"
    }
   ],
   "source": [
    "plot_roc(\"Train Baseline\", train_labels, train_predictions_baseline, color=colors[0])\n",
    "plot_roc(\"Test Baseline\", test_labels, test_predictions_baseline, color=colors[0], linestyle='--')\n",
    "\n",
    "plot_roc(\"Train Weighted\", train_labels, train_predictions_weighted, color=colors[1])\n",
    "plot_roc(\"Test Weighted\", test_labels, test_predictions_weighted, color=colors[1], linestyle='--')\n",
    "\n",
    "\n",
    "plt.legend(loc='lower right')"
   ]
  },
  {
   "cell_type": "markdown",
   "metadata": {
    "colab_type": "text",
    "id": "5ysRtr6xHnXP"
   },
   "source": [
    "## Oversampling"
   ]
  },
  {
   "cell_type": "markdown",
   "metadata": {
    "colab_type": "text",
    "id": "18VUHNc-UF5w"
   },
   "source": [
    "### Oversample the minority class\n",
    "\n",
    "A related approach would be to resample the dataset by oversampling the minority class."
   ]
  },
  {
   "cell_type": "code",
   "execution_count": 38,
   "metadata": {
    "colab": {},
    "colab_type": "code",
    "id": "sHirNp6u7OWp"
   },
   "outputs": [],
   "source": [
    "pos_features = train_features[bool_train_labels]\n",
    "neg_features = train_features[~bool_train_labels]\n",
    "\n",
    "pos_labels = train_labels[bool_train_labels]\n",
    "neg_labels = train_labels[~bool_train_labels]"
   ]
  },
  {
   "cell_type": "markdown",
   "metadata": {
    "colab_type": "text",
    "id": "WgBVbX7P7QrL"
   },
   "source": [
    "#### Using NumPy\n",
    "\n",
    "You can balance the dataset manually by choosing the right number of random \n",
    "indices from the positive examples:"
   ]
  },
  {
   "cell_type": "code",
   "execution_count": 39,
   "metadata": {
    "colab": {},
    "colab_type": "code",
    "id": "BUzGjSkwqT88"
   },
   "outputs": [
    {
     "data": {
      "text/plain": [
       "(181995, 29)"
      ]
     },
     "execution_count": 39,
     "metadata": {},
     "output_type": "execute_result"
    }
   ],
   "source": [
    "ids = np.arange(len(pos_features))\n",
    "choices = np.random.choice(ids, len(neg_features))\n",
    "\n",
    "res_pos_features = pos_features[choices]\n",
    "res_pos_labels = pos_labels[choices]\n",
    "\n",
    "res_pos_features.shape"
   ]
  },
  {
   "cell_type": "code",
   "execution_count": 40,
   "metadata": {
    "colab": {},
    "colab_type": "code",
    "id": "7ie_FFet6cep"
   },
   "outputs": [
    {
     "data": {
      "text/plain": [
       "(363990, 29)"
      ]
     },
     "execution_count": 40,
     "metadata": {},
     "output_type": "execute_result"
    }
   ],
   "source": [
    "resampled_features = np.concatenate([res_pos_features, neg_features], axis=0)\n",
    "resampled_labels = np.concatenate([res_pos_labels, neg_labels], axis=0)\n",
    "\n",
    "order = np.arange(len(resampled_labels))\n",
    "np.random.shuffle(order)\n",
    "resampled_features = resampled_features[order]\n",
    "resampled_labels = resampled_labels[order]\n",
    "\n",
    "resampled_features.shape"
   ]
  },
  {
   "cell_type": "markdown",
   "metadata": {
    "colab_type": "text",
    "id": "IYfJe2Kc-FAz"
   },
   "source": [
    "#### Using `tf.data`"
   ]
  },
  {
   "cell_type": "markdown",
   "metadata": {
    "colab_type": "text",
    "id": "usyixaST8v5P"
   },
   "source": [
    "If you're using `tf.data` the easiest way to produce balanced examples is to start with a `positive` and a `negative` dataset, and merge them. See [the tf.data guide](../../guide/data.ipynb) for more examples."
   ]
  },
  {
   "cell_type": "code",
   "execution_count": 41,
   "metadata": {
    "colab": {},
    "colab_type": "code",
    "id": "yF4OZ-rI6xb6"
   },
   "outputs": [],
   "source": [
    "BUFFER_SIZE = 100000\n",
    "\n",
    "def make_ds(features, labels):\n",
    "  ds = tf.data.Dataset.from_tensor_slices((features, labels))#.cache()\n",
    "  ds = ds.shuffle(BUFFER_SIZE).repeat()\n",
    "  return ds\n",
    "\n",
    "pos_ds = make_ds(pos_features, pos_labels)\n",
    "neg_ds = make_ds(neg_features, neg_labels)"
   ]
  },
  {
   "cell_type": "markdown",
   "metadata": {
    "colab_type": "text",
    "id": "RNQUx-OA-oJc"
   },
   "source": [
    "Each dataset provides `(feature, label)` pairs:"
   ]
  },
  {
   "cell_type": "code",
   "execution_count": 42,
   "metadata": {
    "colab": {},
    "colab_type": "code",
    "id": "llXc9rNH7Fbz"
   },
   "outputs": [
    {
     "ename": "AttributeError",
     "evalue": "'Tensor' object has no attribute 'numpy'",
     "output_type": "error",
     "traceback": [
      "\u001b[1;31m---------------------------------------------------------------------------\u001b[0m",
      "\u001b[1;31mAttributeError\u001b[0m                            Traceback (most recent call last)",
      "\u001b[1;32m<ipython-input-42-243542ae4fe9>\u001b[0m in \u001b[0;36m<module>\u001b[1;34m\u001b[0m\n\u001b[0;32m      1\u001b[0m \u001b[1;32mfor\u001b[0m \u001b[0mfeatures\u001b[0m\u001b[1;33m,\u001b[0m \u001b[0mlabel\u001b[0m \u001b[1;32min\u001b[0m \u001b[0mpos_ds\u001b[0m\u001b[1;33m.\u001b[0m\u001b[0mtake\u001b[0m\u001b[1;33m(\u001b[0m\u001b[1;36m1\u001b[0m\u001b[1;33m)\u001b[0m\u001b[1;33m:\u001b[0m\u001b[1;33m\u001b[0m\u001b[1;33m\u001b[0m\u001b[0m\n\u001b[1;32m----> 2\u001b[1;33m   \u001b[0mprint\u001b[0m\u001b[1;33m(\u001b[0m\u001b[1;34m\"Features:\\n\"\u001b[0m\u001b[1;33m,\u001b[0m \u001b[0mfeatures\u001b[0m\u001b[1;33m.\u001b[0m\u001b[0mnumpy\u001b[0m\u001b[1;33m(\u001b[0m\u001b[1;33m)\u001b[0m\u001b[1;33m)\u001b[0m\u001b[1;33m\u001b[0m\u001b[1;33m\u001b[0m\u001b[0m\n\u001b[0m\u001b[0;32m      3\u001b[0m   \u001b[0mprint\u001b[0m\u001b[1;33m(\u001b[0m\u001b[1;33m)\u001b[0m\u001b[1;33m\u001b[0m\u001b[1;33m\u001b[0m\u001b[0m\n\u001b[0;32m      4\u001b[0m   \u001b[0mprint\u001b[0m\u001b[1;33m(\u001b[0m\u001b[1;34m\"Label: \"\u001b[0m\u001b[1;33m,\u001b[0m \u001b[0mlabel\u001b[0m\u001b[1;33m.\u001b[0m\u001b[0mnumpy\u001b[0m\u001b[1;33m(\u001b[0m\u001b[1;33m)\u001b[0m\u001b[1;33m)\u001b[0m\u001b[1;33m\u001b[0m\u001b[1;33m\u001b[0m\u001b[0m\n",
      "\u001b[1;31mAttributeError\u001b[0m: 'Tensor' object has no attribute 'numpy'"
     ]
    }
   ],
   "source": [
    "for features, label in pos_ds.take(1):\n",
    "  print(\"Features:\\n\", features.numpy())\n",
    "  print()\n",
    "  print(\"Label: \", label.numpy())"
   ]
  },
  {
   "cell_type": "markdown",
   "metadata": {
    "colab_type": "text",
    "id": "sLEfjZO0-vbN"
   },
   "source": [
    "Merge the two together using `experimental.sample_from_datasets`:"
   ]
  },
  {
   "cell_type": "code",
   "execution_count": null,
   "metadata": {
    "colab": {},
    "colab_type": "code",
    "id": "e7w9UQPT9wzE"
   },
   "outputs": [],
   "source": [
    "resampled_ds = tf.data.experimental.sample_from_datasets([pos_ds, neg_ds], weights=[0.5, 0.5])\n",
    "resampled_ds = resampled_ds.batch(BATCH_SIZE).prefetch(2)"
   ]
  },
  {
   "cell_type": "code",
   "execution_count": null,
   "metadata": {
    "colab": {},
    "colab_type": "code",
    "id": "EWXARdTdAuQK"
   },
   "outputs": [],
   "source": [
    "for features, label in resampled_ds.take(1):\n",
    "  print(label.numpy().mean())"
   ]
  },
  {
   "cell_type": "markdown",
   "metadata": {
    "colab_type": "text",
    "id": "irgqf3YxAyN0"
   },
   "source": [
    "To use this dataset, you'll need the number of steps per epoch.\n",
    "\n",
    "The definition of \"epoch\" in this case is less clear. Say it's the number of batches required to see each negative example once:"
   ]
  },
  {
   "cell_type": "code",
   "execution_count": null,
   "metadata": {
    "colab": {},
    "colab_type": "code",
    "id": "xH-7K46AAxpq"
   },
   "outputs": [],
   "source": [
    "resampled_steps_per_epoch = np.ceil(2.0*neg/BATCH_SIZE)\n",
    "resampled_steps_per_epoch"
   ]
  },
  {
   "cell_type": "markdown",
   "metadata": {
    "colab_type": "text",
    "id": "XZ1BvEpcBVHP"
   },
   "source": [
    "### Train on the oversampled data\n",
    "\n",
    "Now try training the model with the resampled data set instead of using class weights to see how these methods compare.\n",
    "\n",
    "Note: Because the data was balanced by replicating the positive examples, the total dataset size is larger, and each epoch runs for more training steps. "
   ]
  },
  {
   "cell_type": "code",
   "execution_count": null,
   "metadata": {
    "colab": {},
    "colab_type": "code",
    "id": "soRQ89JYqd6b"
   },
   "outputs": [],
   "source": [
    "resampled_model = make_model()\n",
    "resampled_model.load_weights(initial_weights)\n",
    "\n",
    "# Reset the bias to zero, since this dataset is balanced.\n",
    "output_layer = resampled_model.layers[-1] \n",
    "output_layer.bias.assign([0])\n",
    "\n",
    "val_ds = tf.data.Dataset.from_tensor_slices((val_features, val_labels)).cache()\n",
    "val_ds = val_ds.batch(BATCH_SIZE).prefetch(2) \n",
    "\n",
    "resampled_history = resampled_model.fit(\n",
    "    resampled_ds,\n",
    "    epochs=EPOCHS,\n",
    "    steps_per_epoch=resampled_steps_per_epoch,\n",
    "    callbacks = [early_stopping],\n",
    "    validation_data=val_ds)"
   ]
  },
  {
   "cell_type": "markdown",
   "metadata": {
    "colab_type": "text",
    "id": "avALvzUp3T_c"
   },
   "source": [
    "If the training process were considering the whole dataset on each gradient update, this oversampling would be basically identical to the class weighting.\n",
    "\n",
    "But when training the model batch-wise, as you did here, the oversampled data provides a smoother gradient signal: Instead of each positive example being shown in one batch with a large weight, they're shown in many different batches each time with a small weight. \n",
    "\n",
    "This smoother gradient signal makes it easier to train the model."
   ]
  },
  {
   "cell_type": "markdown",
   "metadata": {
    "colab_type": "text",
    "id": "klHZ0HV76VC5"
   },
   "source": [
    "### Check training history\n",
    "\n",
    "Note that the distributions of metrics will be different here, because the training data has a totally different distribution from the validation and test data. "
   ]
  },
  {
   "cell_type": "code",
   "execution_count": null,
   "metadata": {
    "colab": {},
    "colab_type": "code",
    "id": "YoUGfr1vuivl"
   },
   "outputs": [],
   "source": [
    "plot_metrics(resampled_history )"
   ]
  },
  {
   "cell_type": "markdown",
   "metadata": {
    "colab_type": "text",
    "id": "1PuH3A2vnwrh"
   },
   "source": [
    "### Re-train\n"
   ]
  },
  {
   "cell_type": "markdown",
   "metadata": {
    "colab_type": "text",
    "id": "KFLxRL8eoDE5"
   },
   "source": [
    "Because training is easier on the balanced data, the above training procedure may overfit quickly. \n",
    "\n",
    "So break up the epochs to give the `callbacks.EarlyStopping` finer control over when to stop training."
   ]
  },
  {
   "cell_type": "code",
   "execution_count": null,
   "metadata": {
    "colab": {},
    "colab_type": "code",
    "id": "e_yn9I26qAHU"
   },
   "outputs": [],
   "source": [
    "resampled_model = make_model()\n",
    "resampled_model.load_weights(initial_weights)\n",
    "\n",
    "# Reset the bias to zero, since this dataset is balanced.\n",
    "output_layer = resampled_model.layers[-1] \n",
    "output_layer.bias.assign([0])\n",
    "\n",
    "resampled_history = resampled_model.fit(\n",
    "    resampled_ds,\n",
    "    # These are not real epochs\n",
    "    steps_per_epoch = 20,\n",
    "    epochs=10*EPOCHS,\n",
    "    callbacks = [early_stopping],\n",
    "    validation_data=(val_ds))"
   ]
  },
  {
   "cell_type": "markdown",
   "metadata": {
    "colab_type": "text",
    "id": "UuJYKv0gpBK1"
   },
   "source": [
    "### Re-check training history"
   ]
  },
  {
   "cell_type": "code",
   "execution_count": null,
   "metadata": {
    "colab": {},
    "colab_type": "code",
    "id": "FMycrpJwn39w"
   },
   "outputs": [],
   "source": [
    "plot_metrics(resampled_history)"
   ]
  },
  {
   "cell_type": "markdown",
   "metadata": {
    "colab_type": "text",
    "id": "bUuE5HOWZiwP"
   },
   "source": [
    "### Evaluate metrics"
   ]
  },
  {
   "cell_type": "code",
   "execution_count": null,
   "metadata": {
    "colab": {},
    "colab_type": "code",
    "id": "C0fmHSgXxFdW"
   },
   "outputs": [],
   "source": [
    "train_predictions_resampled = resampled_model.predict(train_features, batch_size=BATCH_SIZE)\n",
    "test_predictions_resampled = resampled_model.predict(test_features, batch_size=BATCH_SIZE)"
   ]
  },
  {
   "cell_type": "code",
   "execution_count": null,
   "metadata": {
    "colab": {},
    "colab_type": "code",
    "id": "FO0mMOYUDWFk"
   },
   "outputs": [],
   "source": [
    "resampled_results = resampled_model.evaluate(test_features, test_labels,\n",
    "                                             batch_size=BATCH_SIZE, verbose=0)\n",
    "for name, value in zip(resampled_model.metrics_names, resampled_results):\n",
    "  print(name, ': ', value)\n",
    "print()\n",
    "\n",
    "plot_cm(test_labels, test_predictions_resampled)"
   ]
  },
  {
   "cell_type": "markdown",
   "metadata": {
    "colab_type": "text",
    "id": "_xYozM1IIITq"
   },
   "source": [
    "### Plot the ROC"
   ]
  },
  {
   "cell_type": "code",
   "execution_count": null,
   "metadata": {
    "colab": {},
    "colab_type": "code",
    "id": "fye_CiuYrZ1U"
   },
   "outputs": [],
   "source": [
    "plot_roc(\"Train Baseline\", train_labels, train_predictions_baseline, color=colors[0])\n",
    "plot_roc(\"Test Baseline\", test_labels, test_predictions_baseline, color=colors[0], linestyle='--')\n",
    "\n",
    "plot_roc(\"Train Weighted\", train_labels, train_predictions_weighted, color=colors[1])\n",
    "plot_roc(\"Test Weighted\", test_labels, test_predictions_weighted, color=colors[1], linestyle='--')\n",
    "\n",
    "plot_roc(\"Train Resampled\", train_labels, train_predictions_resampled,  color=colors[2])\n",
    "plot_roc(\"Test Resampled\", test_labels, test_predictions_resampled,  color=colors[2], linestyle='--')\n",
    "plt.legend(loc='lower right')"
   ]
  },
  {
   "cell_type": "markdown",
   "metadata": {
    "colab_type": "text",
    "id": "3o3f0ywl8uqW"
   },
   "source": [
    "## Applying this tutorial to your problem\n",
    "\n",
    "Imbalanced data classification is an inherently difficult task since there are so few samples to learn from. You should always start with the data first and do your best to collect as many samples as possible and give substantial thought to what features may be relevant so the model can get the most out of your minority class. At some point your model may struggle to improve and yield the results you want, so it is important to keep in mind the context of your problem and the trade offs between different types of errors."
   ]
  }
 ],
 "metadata": {
  "colab": {
   "collapsed_sections": [],
   "name": "imbalanced_data.ipynb",
   "private_outputs": true,
   "provenance": [],
   "toc_visible": true
  },
  "kernelspec": {
   "display_name": "Python 3",
   "language": "python",
   "name": "python3"
  },
  "language_info": {
   "codemirror_mode": {
    "name": "ipython",
    "version": 3
   },
   "file_extension": ".py",
   "mimetype": "text/x-python",
   "name": "python",
   "nbconvert_exporter": "python",
   "pygments_lexer": "ipython3",
   "version": "3.7.3"
  }
 },
 "nbformat": 4,
 "nbformat_minor": 1
}
